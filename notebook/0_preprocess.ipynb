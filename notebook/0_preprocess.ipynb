{
 "cells": [
  {
   "cell_type": "code",
   "execution_count": 1,
   "id": "d2c992d2-a8cf-4ff8-8976-fe4f16c4567f",
   "metadata": {
    "tags": []
   },
   "outputs": [],
   "source": [
    "import pandas as pd\n",
    "import numpy as np\n",
    "import seaborn as sns\n",
    "import matplotlib.pyplot as plt\n",
    "import os\n",
    "import json\n",
    "\n",
    "import util_functions\n",
    "from tqdm import tqdm"
   ]
  },
  {
   "cell_type": "code",
   "execution_count": 2,
   "id": "70909436-a6fc-4e0d-83fe-50aed9fc7282",
   "metadata": {
    "tags": []
   },
   "outputs": [],
   "source": [
    "json_fp = \"./config.json\"\n",
    "with open(json_fp, 'r') as fp:\n",
    "    config = json.load(fp)"
   ]
  },
  {
   "cell_type": "code",
   "execution_count": null,
   "id": "19488db4-89a1-4e22-8c55-f85b7d2cb88c",
   "metadata": {},
   "outputs": [],
   "source": []
  },
  {
   "cell_type": "code",
   "execution_count": 3,
   "id": "0056b82e-7ddb-4189-a2d5-7040c4d6daa8",
   "metadata": {
    "tags": []
   },
   "outputs": [],
   "source": [
    "gRNA_ref_df = pd.read_csv(\"/project/GCRB/Hon_lab/s223695/Data_project/Perturb_seq_edist_pipeline/ref/Hon_sgRNA_index_dacc_annot_reference.csv\",sep=\"\\t\")\n",
    "\n",
    "neg_control_df = \\\n",
    "    pd.read_csv(\"/project/GCRB/Hon_lab/s223695/Data_project/Perturb_seq_edist_pipeline/ref/negative_controls.tsv\",sep=\"\\t\",index_col=0)\n",
    "non_target_df = \\\n",
    "    pd.read_csv(\"/project/GCRB/Hon_lab/s223695/Data_project/Perturb_seq_edist_pipeline/ref/non_targeting.tsv\",sep=\"\\t\",index_col=0)\n",
    "\n",
    "neg_control_name = neg_control_df.index.tolist()\n",
    "pos_control_name = [\"CD81\",\"CD151\",\"CD55\",\"CD29\",\"B2M\",\"AARS\",\"POLR1D\",\"DNAJC19\",\"MALAT1\",\"NGFRP1\",\"TFRC\"]\n",
    "non_target_name = non_target_df.index.tolist()\n",
    "\n",
    "def detect_source(target_gRNA_name):\n",
    "    target_gene = util_functions.extract_gene_name(target_gRNA_name)\n",
    "    if target_gene in neg_control_name:\n",
    "        return \"neg_control\"\n",
    "    elif target_gene in pos_control_name:\n",
    "        return \"pos_control\"\n",
    "    elif target_gene==\"non-targeting\":\n",
    "        return \"non-targeting\"\n",
    "    else:\n",
    "        return \"target\""
   ]
  },
  {
   "cell_type": "code",
   "execution_count": 4,
   "id": "deb31321-000f-4e31-811a-5513573df949",
   "metadata": {
    "tags": []
   },
   "outputs": [],
   "source": [
    "gRNA_ref_df[\"target_transcript_name\"] = gRNA_ref_df[\"protospacer_ID\"].apply(util_functions.extract_transcript_name)\n",
    "gRNA_ref_df[\"source\"] = gRNA_ref_df[\"protospacer_ID\"].apply(detect_source)\n",
    "gRNA_ref_df[\"target_gene_name\"] = gRNA_ref_df[\"intended_target_name\"].copy()"
   ]
  },
  {
   "cell_type": "code",
   "execution_count": 5,
   "id": "14771a3e-a257-4c2e-9249-726699d83517",
   "metadata": {
    "tags": []
   },
   "outputs": [
    {
     "name": "stdout",
     "output_type": "stream",
     "text": [
      "(array(['neg_control', 'non-targeting', 'pos_control', 'target'],\n",
      "      dtype=object), array([  598,   600,    18, 13142]))\n"
     ]
    }
   ],
   "source": [
    "print(np.unique(gRNA_ref_df[\"source\"],return_counts=True))"
   ]
  },
  {
   "cell_type": "code",
   "execution_count": 6,
   "id": "9e51487e-fe51-4391-8890-bd7360e230f3",
   "metadata": {
    "tags": []
   },
   "outputs": [
    {
     "data": {
      "text/html": [
       "<div>\n",
       "<style scoped>\n",
       "    .dataframe tbody tr th:only-of-type {\n",
       "        vertical-align: middle;\n",
       "    }\n",
       "\n",
       "    .dataframe tbody tr th {\n",
       "        vertical-align: top;\n",
       "    }\n",
       "\n",
       "    .dataframe thead th {\n",
       "        text-align: right;\n",
       "    }\n",
       "</style>\n",
       "<table border=\"1\" class=\"dataframe\">\n",
       "  <thead>\n",
       "    <tr style=\"text-align: right;\">\n",
       "      <th></th>\n",
       "      <th>protospacer_ID</th>\n",
       "      <th>protospacer</th>\n",
       "      <th>intended_target_name</th>\n",
       "      <th>type</th>\n",
       "      <th>genomic_element</th>\n",
       "      <th>reverse_compliment</th>\n",
       "      <th>target_transcript_name</th>\n",
       "      <th>source</th>\n",
       "      <th>target_gene_name</th>\n",
       "    </tr>\n",
       "  </thead>\n",
       "  <tbody>\n",
       "    <tr>\n",
       "      <th>0</th>\n",
       "      <td>DNAJC19_ B</td>\n",
       "      <td>GGGAACTCCTGTAAGGTCAG</td>\n",
       "      <td>DNAJC19</td>\n",
       "      <td>targeting</td>\n",
       "      <td>promoter</td>\n",
       "      <td>CTGACCTTACAGGAGTTCCC</td>\n",
       "      <td>DNAJC19</td>\n",
       "      <td>pos_control</td>\n",
       "      <td>DNAJC19</td>\n",
       "    </tr>\n",
       "    <tr>\n",
       "      <th>1</th>\n",
       "      <td>POLR1D_ B</td>\n",
       "      <td>GGGAAGCAAGGACCGACCGA</td>\n",
       "      <td>POLR1D</td>\n",
       "      <td>targeting</td>\n",
       "      <td>promoter</td>\n",
       "      <td>TCGGTCGGTCCTTGCTTCCC</td>\n",
       "      <td>POLR1D</td>\n",
       "      <td>pos_control</td>\n",
       "      <td>POLR1D</td>\n",
       "    </tr>\n",
       "    <tr>\n",
       "      <th>2</th>\n",
       "      <td>OR5K2-2</td>\n",
       "      <td>GAAAAAATTGTAGAGGAATA</td>\n",
       "      <td>OR5K2</td>\n",
       "      <td>targeting</td>\n",
       "      <td>promoter</td>\n",
       "      <td>TATTCCTCTACAATTTTTTC</td>\n",
       "      <td>OR5K2</td>\n",
       "      <td>neg_control</td>\n",
       "      <td>OR5K2</td>\n",
       "    </tr>\n",
       "    <tr>\n",
       "      <th>3</th>\n",
       "      <td>SP1_+_53773993.23-P1P2-1</td>\n",
       "      <td>GAAAAACGCGGACGCTGACG</td>\n",
       "      <td>SP1</td>\n",
       "      <td>targeting</td>\n",
       "      <td>promoter</td>\n",
       "      <td>CGTCAGCGTCCGCGTTTTTC</td>\n",
       "      <td>SP1:P1P2</td>\n",
       "      <td>target</td>\n",
       "      <td>SP1</td>\n",
       "    </tr>\n",
       "    <tr>\n",
       "      <th>4</th>\n",
       "      <td>SP8_-_20826141.23-P1P2-2</td>\n",
       "      <td>GAAAAAGATCCTCTGAGAGG</td>\n",
       "      <td>SP8</td>\n",
       "      <td>targeting</td>\n",
       "      <td>promoter</td>\n",
       "      <td>CCTCTCAGAGGATCTTTTTC</td>\n",
       "      <td>SP8:P1P2</td>\n",
       "      <td>target</td>\n",
       "      <td>SP8</td>\n",
       "    </tr>\n",
       "  </tbody>\n",
       "</table>\n",
       "</div>"
      ],
      "text/plain": [
       "             protospacer_ID           protospacer intended_target_name  \\\n",
       "0                DNAJC19_ B  GGGAACTCCTGTAAGGTCAG              DNAJC19   \n",
       "1                 POLR1D_ B  GGGAAGCAAGGACCGACCGA               POLR1D   \n",
       "2                   OR5K2-2  GAAAAAATTGTAGAGGAATA                OR5K2   \n",
       "3  SP1_+_53773993.23-P1P2-1  GAAAAACGCGGACGCTGACG                  SP1   \n",
       "4  SP8_-_20826141.23-P1P2-2  GAAAAAGATCCTCTGAGAGG                  SP8   \n",
       "\n",
       "        type genomic_element    reverse_compliment target_transcript_name  \\\n",
       "0  targeting        promoter  CTGACCTTACAGGAGTTCCC                DNAJC19   \n",
       "1  targeting        promoter  TCGGTCGGTCCTTGCTTCCC                 POLR1D   \n",
       "2  targeting        promoter  TATTCCTCTACAATTTTTTC                  OR5K2   \n",
       "3  targeting        promoter  CGTCAGCGTCCGCGTTTTTC               SP1:P1P2   \n",
       "4  targeting        promoter  CCTCTCAGAGGATCTTTTTC               SP8:P1P2   \n",
       "\n",
       "        source target_gene_name  \n",
       "0  pos_control          DNAJC19  \n",
       "1  pos_control           POLR1D  \n",
       "2  neg_control            OR5K2  \n",
       "3       target              SP1  \n",
       "4       target              SP8  "
      ]
     },
     "execution_count": 6,
     "metadata": {},
     "output_type": "execute_result"
    }
   ],
   "source": [
    "gRNA_ref_df.head()"
   ]
  },
  {
   "cell_type": "code",
   "execution_count": 7,
   "id": "c845f9f7-be19-4337-b398-51a0519f7024",
   "metadata": {
    "tags": []
   },
   "outputs": [],
   "source": [
    "gRNA_ref_df_output = gRNA_ref_df.loc[:,[\"protospacer_ID\",\"target_transcript_name\",\"target_gene_name\",\n",
    "                                        \"source\",\"protospacer\",\"reverse_compliment\"]]"
   ]
  },
  {
   "cell_type": "code",
   "execution_count": 8,
   "id": "4d8f1d94-d17b-4364-ae99-026567035338",
   "metadata": {
    "tags": []
   },
   "outputs": [
    {
     "data": {
      "text/html": [
       "<div>\n",
       "<style scoped>\n",
       "    .dataframe tbody tr th:only-of-type {\n",
       "        vertical-align: middle;\n",
       "    }\n",
       "\n",
       "    .dataframe tbody tr th {\n",
       "        vertical-align: top;\n",
       "    }\n",
       "\n",
       "    .dataframe thead th {\n",
       "        text-align: right;\n",
       "    }\n",
       "</style>\n",
       "<table border=\"1\" class=\"dataframe\">\n",
       "  <thead>\n",
       "    <tr style=\"text-align: right;\">\n",
       "      <th></th>\n",
       "      <th>protospacer_ID</th>\n",
       "      <th>target_transcript_name</th>\n",
       "      <th>target_gene_name</th>\n",
       "      <th>source</th>\n",
       "      <th>protospacer</th>\n",
       "      <th>reverse_compliment</th>\n",
       "    </tr>\n",
       "  </thead>\n",
       "  <tbody>\n",
       "    <tr>\n",
       "      <th>0</th>\n",
       "      <td>DNAJC19_ B</td>\n",
       "      <td>DNAJC19</td>\n",
       "      <td>DNAJC19</td>\n",
       "      <td>pos_control</td>\n",
       "      <td>GGGAACTCCTGTAAGGTCAG</td>\n",
       "      <td>CTGACCTTACAGGAGTTCCC</td>\n",
       "    </tr>\n",
       "    <tr>\n",
       "      <th>1</th>\n",
       "      <td>POLR1D_ B</td>\n",
       "      <td>POLR1D</td>\n",
       "      <td>POLR1D</td>\n",
       "      <td>pos_control</td>\n",
       "      <td>GGGAAGCAAGGACCGACCGA</td>\n",
       "      <td>TCGGTCGGTCCTTGCTTCCC</td>\n",
       "    </tr>\n",
       "    <tr>\n",
       "      <th>2</th>\n",
       "      <td>OR5K2-2</td>\n",
       "      <td>OR5K2</td>\n",
       "      <td>OR5K2</td>\n",
       "      <td>neg_control</td>\n",
       "      <td>GAAAAAATTGTAGAGGAATA</td>\n",
       "      <td>TATTCCTCTACAATTTTTTC</td>\n",
       "    </tr>\n",
       "    <tr>\n",
       "      <th>3</th>\n",
       "      <td>SP1_+_53773993.23-P1P2-1</td>\n",
       "      <td>SP1:P1P2</td>\n",
       "      <td>SP1</td>\n",
       "      <td>target</td>\n",
       "      <td>GAAAAACGCGGACGCTGACG</td>\n",
       "      <td>CGTCAGCGTCCGCGTTTTTC</td>\n",
       "    </tr>\n",
       "    <tr>\n",
       "      <th>4</th>\n",
       "      <td>SP8_-_20826141.23-P1P2-2</td>\n",
       "      <td>SP8:P1P2</td>\n",
       "      <td>SP8</td>\n",
       "      <td>target</td>\n",
       "      <td>GAAAAAGATCCTCTGAGAGG</td>\n",
       "      <td>CCTCTCAGAGGATCTTTTTC</td>\n",
       "    </tr>\n",
       "    <tr>\n",
       "      <th>...</th>\n",
       "      <td>...</td>\n",
       "      <td>...</td>\n",
       "      <td>...</td>\n",
       "      <td>...</td>\n",
       "      <td>...</td>\n",
       "      <td>...</td>\n",
       "    </tr>\n",
       "    <tr>\n",
       "      <th>14353</th>\n",
       "      <td>ZNF532_-_56532303.23-P1-2</td>\n",
       "      <td>ZNF532:P1</td>\n",
       "      <td>ZNF532</td>\n",
       "      <td>target</td>\n",
       "      <td>GTTTTGGCTGCCATGAAGGG</td>\n",
       "      <td>CCCTTCATGGCAGCCAAAAC</td>\n",
       "    </tr>\n",
       "    <tr>\n",
       "      <th>14354</th>\n",
       "      <td>ZNF829_-_37406927.23-P1P2-2</td>\n",
       "      <td>ZNF829:P1P2</td>\n",
       "      <td>ZNF829</td>\n",
       "      <td>target</td>\n",
       "      <td>GTTTTGGTCCCCAGGAGAAC</td>\n",
       "      <td>GTTCTCCTGGGGACCAAAAC</td>\n",
       "    </tr>\n",
       "    <tr>\n",
       "      <th>14355</th>\n",
       "      <td>NANOG_+_7942459.23-P1P2-2</td>\n",
       "      <td>NANOG:P1P2</td>\n",
       "      <td>NANOG</td>\n",
       "      <td>target</td>\n",
       "      <td>GTTTTTCCATTATAACTTGG</td>\n",
       "      <td>CCAAGTTATAATGGAAAAAC</td>\n",
       "    </tr>\n",
       "    <tr>\n",
       "      <th>14356</th>\n",
       "      <td>OR8B3-5</td>\n",
       "      <td>OR8B3</td>\n",
       "      <td>OR8B3</td>\n",
       "      <td>neg_control</td>\n",
       "      <td>GTTTTTGTCTTCAAAAATCT</td>\n",
       "      <td>AGATTTTTGAAGACAAAAAC</td>\n",
       "    </tr>\n",
       "    <tr>\n",
       "      <th>14357</th>\n",
       "      <td>DNAJC19_ main</td>\n",
       "      <td>DNAJC19</td>\n",
       "      <td>DNAJC19</td>\n",
       "      <td>pos_control</td>\n",
       "      <td>GTCATGGACTCGGAGATTAG</td>\n",
       "      <td>CTAATCTCCGAGTCCATGAC</td>\n",
       "    </tr>\n",
       "  </tbody>\n",
       "</table>\n",
       "<p>14358 rows × 6 columns</p>\n",
       "</div>"
      ],
      "text/plain": [
       "                    protospacer_ID target_transcript_name target_gene_name  \\\n",
       "0                       DNAJC19_ B                DNAJC19          DNAJC19   \n",
       "1                        POLR1D_ B                 POLR1D           POLR1D   \n",
       "2                          OR5K2-2                  OR5K2            OR5K2   \n",
       "3         SP1_+_53773993.23-P1P2-1               SP1:P1P2              SP1   \n",
       "4         SP8_-_20826141.23-P1P2-2               SP8:P1P2              SP8   \n",
       "...                            ...                    ...              ...   \n",
       "14353    ZNF532_-_56532303.23-P1-2              ZNF532:P1           ZNF532   \n",
       "14354  ZNF829_-_37406927.23-P1P2-2            ZNF829:P1P2           ZNF829   \n",
       "14355    NANOG_+_7942459.23-P1P2-2             NANOG:P1P2            NANOG   \n",
       "14356                      OR8B3-5                  OR8B3            OR8B3   \n",
       "14357                DNAJC19_ main                DNAJC19          DNAJC19   \n",
       "\n",
       "            source           protospacer    reverse_compliment  \n",
       "0      pos_control  GGGAACTCCTGTAAGGTCAG  CTGACCTTACAGGAGTTCCC  \n",
       "1      pos_control  GGGAAGCAAGGACCGACCGA  TCGGTCGGTCCTTGCTTCCC  \n",
       "2      neg_control  GAAAAAATTGTAGAGGAATA  TATTCCTCTACAATTTTTTC  \n",
       "3           target  GAAAAACGCGGACGCTGACG  CGTCAGCGTCCGCGTTTTTC  \n",
       "4           target  GAAAAAGATCCTCTGAGAGG  CCTCTCAGAGGATCTTTTTC  \n",
       "...            ...                   ...                   ...  \n",
       "14353       target  GTTTTGGCTGCCATGAAGGG  CCCTTCATGGCAGCCAAAAC  \n",
       "14354       target  GTTTTGGTCCCCAGGAGAAC  GTTCTCCTGGGGACCAAAAC  \n",
       "14355       target  GTTTTTCCATTATAACTTGG  CCAAGTTATAATGGAAAAAC  \n",
       "14356  neg_control  GTTTTTGTCTTCAAAAATCT  AGATTTTTGAAGACAAAAAC  \n",
       "14357  pos_control  GTCATGGACTCGGAGATTAG  CTAATCTCCGAGTCCATGAC  \n",
       "\n",
       "[14358 rows x 6 columns]"
      ]
     },
     "execution_count": 8,
     "metadata": {},
     "output_type": "execute_result"
    }
   ],
   "source": [
    "gRNA_ref_df_output"
   ]
  },
  {
   "cell_type": "code",
   "execution_count": 9,
   "id": "98d9c0a5-2614-479d-9fd5-ec536d3574c2",
   "metadata": {
    "tags": []
   },
   "outputs": [],
   "source": [
    "gRNA_ref_df_output.to_csv(os.path.join(config[\"output_file_name_list\"][\"OUTPUT_FOLDER\"],\n",
    "                                       config[\"output_file_name_list\"][\"annotation_file\"]))"
   ]
  },
  {
   "cell_type": "code",
   "execution_count": null,
   "id": "af23610c-c838-4db2-afb4-32de1bd335ea",
   "metadata": {},
   "outputs": [],
   "source": []
  }
 ],
 "metadata": {
  "kernelspec": {
   "display_name": "scanpy_gpu",
   "language": "python",
   "name": "scanpy_gpu"
  },
  "language_info": {
   "codemirror_mode": {
    "name": "ipython",
    "version": 3
   },
   "file_extension": ".py",
   "mimetype": "text/x-python",
   "name": "python",
   "nbconvert_exporter": "python",
   "pygments_lexer": "ipython3",
   "version": "3.12.2"
  }
 },
 "nbformat": 4,
 "nbformat_minor": 5
}
