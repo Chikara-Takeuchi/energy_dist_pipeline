{
 "cells": [
  {
   "cell_type": "code",
   "execution_count": 1,
   "id": "a1d9eca6-c357-4335-8321-e77d9efa6c39",
   "metadata": {
    "tags": []
   },
   "outputs": [
    {
     "name": "stderr",
     "output_type": "stream",
     "text": [
      "/project/GCRB/Hon_lab/s223695/anaconda3/envs/scanpy_gpu/lib/python3.12/site-packages/tqdm/auto.py:21: TqdmWarning: IProgress not found. Please update jupyter and ipywidgets. See https://ipywidgets.readthedocs.io/en/stable/user_install.html\n",
      "  from .autonotebook import tqdm as notebook_tqdm\n"
     ]
    }
   ],
   "source": [
    "import sys\n",
    "import os\n",
    "\n",
    "import pandas as pd\n",
    "import numpy as np\n",
    "import scanpy as sc\n",
    "\n",
    "from sklearn.cluster import KMeans\n",
    "from scipy.stats import hypergeom\n",
    "from sklearn.metrics import pairwise_distances\n",
    "from itertools import combinations\n",
    "\n",
    "\n",
    "import seaborn as sns\n",
    "import matplotlib.pyplot as plt\n",
    "plt.rcParams.update({'axes.labelsize' : 'large',\n",
    "                     'pdf.fonttype':42\n",
    "                    }) \n",
    "from matplotlib.backends.backend_pdf import PdfPages\n",
    "\n",
    "from tqdm import tqdm\n",
    "from tqdm.contrib.concurrent import process_map\n",
    "\n",
    "import multiprocessing as mp\n",
    "\n",
    "import gc\n",
    "import warnings\n",
    "import time\n",
    "import pickle\n",
    "import json\n",
    "import math\n",
    "\n",
    "import torch\n",
    "\n",
    "from importlib import reload\n",
    "import util_functions\n",
    "import energy_distance_calc"
   ]
  },
  {
   "cell_type": "code",
   "execution_count": 2,
   "id": "334180d2-b2f8-4916-97e6-2e0445f8a7a8",
   "metadata": {
    "tags": []
   },
   "outputs": [
    {
     "data": {
      "text/plain": [
       "'1.9.8'"
      ]
     },
     "execution_count": 2,
     "metadata": {},
     "output_type": "execute_result"
    }
   ],
   "source": [
    "sc.__version__"
   ]
  },
  {
   "cell_type": "code",
   "execution_count": 3,
   "id": "8a258110-e70d-4278-b1c3-3acb3ee25286",
   "metadata": {
    "tags": []
   },
   "outputs": [
    {
     "name": "stdout",
     "output_type": "stream",
     "text": [
      "Mon Apr  7 15:58:12 2025       \n",
      "+-----------------------------------------------------------------------------------------+\n",
      "| NVIDIA-SMI 550.54.14              Driver Version: 550.54.14      CUDA Version: 12.4     |\n",
      "|-----------------------------------------+------------------------+----------------------+\n",
      "| GPU  Name                 Persistence-M | Bus-Id          Disp.A | Volatile Uncorr. ECC |\n",
      "| Fan  Temp   Perf          Pwr:Usage/Cap |           Memory-Usage | GPU-Util  Compute M. |\n",
      "|                                         |                        |               MIG M. |\n",
      "|=========================================+========================+======================|\n",
      "|   0  Tesla V100-PCIE-32GB           Off |   00000000:3B:00.0 Off |                    0 |\n",
      "| N/A   28C    P0             25W /  250W |     164MiB /  32768MiB |      0%      Default |\n",
      "|                                         |                        |                  N/A |\n",
      "+-----------------------------------------+------------------------+----------------------+\n",
      "                                                                                         \n",
      "+-----------------------------------------------------------------------------------------+\n",
      "| Processes:                                                                              |\n",
      "|  GPU   GI   CI        PID   Type   Process name                              GPU Memory |\n",
      "|        ID   ID                                                               Usage      |\n",
      "|=========================================================================================|\n",
      "|    0   N/A  N/A    120151      G   /usr/bin/X                                     66MiB |\n",
      "|    0   N/A  N/A    120204      G   /usr/bin/gnome-shell                           97MiB |\n",
      "+-----------------------------------------------------------------------------------------+\n"
     ]
    }
   ],
   "source": [
    "!nvidia-smi"
   ]
  },
  {
   "cell_type": "code",
   "execution_count": 4,
   "id": "32ef93c0-494e-404c-90ab-dfbc430cd129",
   "metadata": {
    "tags": []
   },
   "outputs": [
    {
     "name": "stdout",
     "output_type": "stream",
     "text": [
      "              total        used        free      shared  buff/cache   available\n",
      "Mem:         385430        9606      374351          44        1471      374562\n",
      "Swap:        131071        1295      129776\n"
     ]
    }
   ],
   "source": [
    "!free -m"
   ]
  },
  {
   "cell_type": "markdown",
   "id": "cee8bf3b-c280-4f43-971f-05ab28337287",
   "metadata": {},
   "source": [
    "<h3>Load PCA matrix and gRNA-Cell name dictionary</h3>"
   ]
  },
  {
   "cell_type": "code",
   "execution_count": 5,
   "id": "839317fe-d0b0-4c97-a93d-192e4373c487",
   "metadata": {
    "tags": []
   },
   "outputs": [],
   "source": [
    "json_fp = \"./config.json\"\n",
    "with open(json_fp, 'r') as fp:\n",
    "    config = json.load(fp)\n",
    "\n",
    "device = torch.device(\"cuda:0\" if torch.cuda.is_available() else \"cpu\")\n",
    "\n",
    "annotation_df = pd.read_csv(os.path.join(config[\"output_file_name_list\"][\"OUTPUT_FOLDER\"],\n",
    "                                         config[\"output_file_name_list\"][\"annotation_file\"]),index_col=0)"
   ]
  },
  {
   "cell_type": "code",
   "execution_count": 6,
   "id": "fdb38807-628b-4cd6-9f1c-dc59d4b4c1ac",
   "metadata": {
    "tags": []
   },
   "outputs": [
    {
     "name": "stdout",
     "output_type": "stream",
     "text": [
      "--- Processing PCA data ---\n",
      "PCA file './pipeline_output/pca_dataframe.pickle' not found. Loading PCA from AnnData.\n",
      "Loading input file '/project/shared/gcrb_igvf/data/shared/TF_Perturbseq_full/H5AD/V0.1_TF_Perturbseq_full_sgRNACells_filtered_w_embedding_full_dataset.h5ad'...\n",
      "Extracting PCA data from 'X_pca'...\n",
      "Saving PCA data to './pipeline_output/pca_dataframe.pickle'...\n",
      "Releasing AnnData object from memory.\n",
      "\n",
      "--- Processing gRNA dictionary ---\n",
      "Dictionary file './pipeline_output/gRNA_dictionary.pickle' not found. Creating dictionary from sgRNA data.\n",
      "Loading sgRNA file '/project/GCRB/Hon_lab/s215194/Single_Cell/TF_perturbseq_full/_all_lanes_combined/aggr_dataframe/aggr_combined_df_full.pkl'...\n",
      "Transposing sgRNA data and filtering by cells present in input data...\n",
      "Extracting non-zero count cell-gRNA pairs...\n",
      "Creating gRNA dictionary (improved method)...\n"
     ]
    },
    {
     "name": "stderr",
     "output_type": "stream",
     "text": [
      "Processing gRNA pairs: 100%|██████████| 1394293/1394293 [00:00<00:00, 1899439.31it/s]\n"
     ]
    },
    {
     "name": "stdout",
     "output_type": "stream",
     "text": [
      "gRNA dictionary creation complete. Found 11634 types of gRNAs.\n",
      "Saving gRNA dictionary to './pipeline_output/gRNA_dictionary.pickle'...\n",
      "Releasing sgRNA data from memory.\n",
      "\n",
      "--- Processing finished ---\n"
     ]
    }
   ],
   "source": [
    "(pca_df,gRNA_dict) = util_functions.load_files(config[\"input_data\"][\"h5ad_file\"],\n",
    "                                               config[\"input_data\"][\"sgRNA_file\"],\n",
    "                                               os.path.join(config[\"output_file_name_list\"][\"OUTPUT_FOLDER\"],\n",
    "                                                            config[\"output_file_name_list\"][\"pca_table\"]),\n",
    "                                               os.path.join(config[\"output_file_name_list\"][\"OUTPUT_FOLDER\"],\n",
    "                                                            config[\"output_file_name_list\"][\"gRNA_dict\"]),\n",
    "                                               overwrite=False\n",
    "                                              )"
   ]
  },
  {
   "cell_type": "code",
   "execution_count": 7,
   "id": "74332fda-4870-4b70-a1b8-9d8a7a0b048f",
   "metadata": {
    "tags": []
   },
   "outputs": [
    {
     "data": {
      "text/html": [
       "<div>\n",
       "<style scoped>\n",
       "    .dataframe tbody tr th:only-of-type {\n",
       "        vertical-align: middle;\n",
       "    }\n",
       "\n",
       "    .dataframe tbody tr th {\n",
       "        vertical-align: top;\n",
       "    }\n",
       "\n",
       "    .dataframe thead th {\n",
       "        text-align: right;\n",
       "    }\n",
       "</style>\n",
       "<table border=\"1\" class=\"dataframe\">\n",
       "  <thead>\n",
       "    <tr style=\"text-align: right;\">\n",
       "      <th></th>\n",
       "      <th>protospacer_ID</th>\n",
       "      <th>target_transcript_name</th>\n",
       "      <th>target_gene_name</th>\n",
       "      <th>source</th>\n",
       "      <th>protospacer</th>\n",
       "      <th>reverse_compliment</th>\n",
       "    </tr>\n",
       "  </thead>\n",
       "  <tbody>\n",
       "    <tr>\n",
       "      <th>0</th>\n",
       "      <td>DNAJC19_ B</td>\n",
       "      <td>DNAJC19</td>\n",
       "      <td>DNAJC19</td>\n",
       "      <td>pos_control</td>\n",
       "      <td>GGGAACTCCTGTAAGGTCAG</td>\n",
       "      <td>CTGACCTTACAGGAGTTCCC</td>\n",
       "    </tr>\n",
       "    <tr>\n",
       "      <th>1</th>\n",
       "      <td>POLR1D_ B</td>\n",
       "      <td>POLR1D</td>\n",
       "      <td>POLR1D</td>\n",
       "      <td>pos_control</td>\n",
       "      <td>GGGAAGCAAGGACCGACCGA</td>\n",
       "      <td>TCGGTCGGTCCTTGCTTCCC</td>\n",
       "    </tr>\n",
       "    <tr>\n",
       "      <th>2</th>\n",
       "      <td>OR5K2-2</td>\n",
       "      <td>OR5K2</td>\n",
       "      <td>OR5K2</td>\n",
       "      <td>neg_control</td>\n",
       "      <td>GAAAAAATTGTAGAGGAATA</td>\n",
       "      <td>TATTCCTCTACAATTTTTTC</td>\n",
       "    </tr>\n",
       "    <tr>\n",
       "      <th>3</th>\n",
       "      <td>SP1_+_53773993.23-P1P2-1</td>\n",
       "      <td>SP1:P1P2</td>\n",
       "      <td>SP1</td>\n",
       "      <td>target</td>\n",
       "      <td>GAAAAACGCGGACGCTGACG</td>\n",
       "      <td>CGTCAGCGTCCGCGTTTTTC</td>\n",
       "    </tr>\n",
       "    <tr>\n",
       "      <th>4</th>\n",
       "      <td>SP8_-_20826141.23-P1P2-2</td>\n",
       "      <td>SP8:P1P2</td>\n",
       "      <td>SP8</td>\n",
       "      <td>target</td>\n",
       "      <td>GAAAAAGATCCTCTGAGAGG</td>\n",
       "      <td>CCTCTCAGAGGATCTTTTTC</td>\n",
       "    </tr>\n",
       "    <tr>\n",
       "      <th>...</th>\n",
       "      <td>...</td>\n",
       "      <td>...</td>\n",
       "      <td>...</td>\n",
       "      <td>...</td>\n",
       "      <td>...</td>\n",
       "      <td>...</td>\n",
       "    </tr>\n",
       "    <tr>\n",
       "      <th>14353</th>\n",
       "      <td>ZNF532_-_56532303.23-P1-2</td>\n",
       "      <td>ZNF532:P1</td>\n",
       "      <td>ZNF532</td>\n",
       "      <td>target</td>\n",
       "      <td>GTTTTGGCTGCCATGAAGGG</td>\n",
       "      <td>CCCTTCATGGCAGCCAAAAC</td>\n",
       "    </tr>\n",
       "    <tr>\n",
       "      <th>14354</th>\n",
       "      <td>ZNF829_-_37406927.23-P1P2-2</td>\n",
       "      <td>ZNF829:P1P2</td>\n",
       "      <td>ZNF829</td>\n",
       "      <td>target</td>\n",
       "      <td>GTTTTGGTCCCCAGGAGAAC</td>\n",
       "      <td>GTTCTCCTGGGGACCAAAAC</td>\n",
       "    </tr>\n",
       "    <tr>\n",
       "      <th>14355</th>\n",
       "      <td>NANOG_+_7942459.23-P1P2-2</td>\n",
       "      <td>NANOG:P1P2</td>\n",
       "      <td>NANOG</td>\n",
       "      <td>target</td>\n",
       "      <td>GTTTTTCCATTATAACTTGG</td>\n",
       "      <td>CCAAGTTATAATGGAAAAAC</td>\n",
       "    </tr>\n",
       "    <tr>\n",
       "      <th>14356</th>\n",
       "      <td>OR8B3-5</td>\n",
       "      <td>OR8B3</td>\n",
       "      <td>OR8B3</td>\n",
       "      <td>neg_control</td>\n",
       "      <td>GTTTTTGTCTTCAAAAATCT</td>\n",
       "      <td>AGATTTTTGAAGACAAAAAC</td>\n",
       "    </tr>\n",
       "    <tr>\n",
       "      <th>14357</th>\n",
       "      <td>DNAJC19_ main</td>\n",
       "      <td>DNAJC19</td>\n",
       "      <td>DNAJC19</td>\n",
       "      <td>pos_control</td>\n",
       "      <td>GTCATGGACTCGGAGATTAG</td>\n",
       "      <td>CTAATCTCCGAGTCCATGAC</td>\n",
       "    </tr>\n",
       "  </tbody>\n",
       "</table>\n",
       "<p>14358 rows × 6 columns</p>\n",
       "</div>"
      ],
      "text/plain": [
       "                    protospacer_ID target_transcript_name target_gene_name  \\\n",
       "0                       DNAJC19_ B                DNAJC19          DNAJC19   \n",
       "1                        POLR1D_ B                 POLR1D           POLR1D   \n",
       "2                          OR5K2-2                  OR5K2            OR5K2   \n",
       "3         SP1_+_53773993.23-P1P2-1               SP1:P1P2              SP1   \n",
       "4         SP8_-_20826141.23-P1P2-2               SP8:P1P2              SP8   \n",
       "...                            ...                    ...              ...   \n",
       "14353    ZNF532_-_56532303.23-P1-2              ZNF532:P1           ZNF532   \n",
       "14354  ZNF829_-_37406927.23-P1P2-2            ZNF829:P1P2           ZNF829   \n",
       "14355    NANOG_+_7942459.23-P1P2-2             NANOG:P1P2            NANOG   \n",
       "14356                      OR8B3-5                  OR8B3            OR8B3   \n",
       "14357                DNAJC19_ main                DNAJC19          DNAJC19   \n",
       "\n",
       "            source           protospacer    reverse_compliment  \n",
       "0      pos_control  GGGAACTCCTGTAAGGTCAG  CTGACCTTACAGGAGTTCCC  \n",
       "1      pos_control  GGGAAGCAAGGACCGACCGA  TCGGTCGGTCCTTGCTTCCC  \n",
       "2      neg_control  GAAAAAATTGTAGAGGAATA  TATTCCTCTACAATTTTTTC  \n",
       "3           target  GAAAAACGCGGACGCTGACG  CGTCAGCGTCCGCGTTTTTC  \n",
       "4           target  GAAAAAGATCCTCTGAGAGG  CCTCTCAGAGGATCTTTTTC  \n",
       "...            ...                   ...                   ...  \n",
       "14353       target  GTTTTGGCTGCCATGAAGGG  CCCTTCATGGCAGCCAAAAC  \n",
       "14354       target  GTTTTGGTCCCCAGGAGAAC  GTTCTCCTGGGGACCAAAAC  \n",
       "14355       target  GTTTTTCCATTATAACTTGG  CCAAGTTATAATGGAAAAAC  \n",
       "14356  neg_control  GTTTTTGTCTTCAAAAATCT  AGATTTTTGAAGACAAAAAC  \n",
       "14357  pos_control  GTCATGGACTCGGAGATTAG  CTAATCTCCGAGTCCATGAC  \n",
       "\n",
       "[14358 rows x 6 columns]"
      ]
     },
     "execution_count": 7,
     "metadata": {},
     "output_type": "execute_result"
    }
   ],
   "source": [
    "annotation_df"
   ]
  },
  {
   "cell_type": "code",
   "execution_count": 8,
   "id": "aa6e1a1e-d0ca-4278-9895-2b787668b0ff",
   "metadata": {
    "tags": []
   },
   "outputs": [],
   "source": [
    "gRNA_region_dict = {}\n",
    "count_region_dict = {}\n",
    "\n",
    "for index,row in annotation_df.iterrows():\n",
    "    if row.protospacer_ID in gRNA_dict.keys():\n",
    "        if row.target_transcript_name in gRNA_region_dict.keys():\n",
    "            gRNA_region_dict[row.target_transcript_name] += [row.protospacer_ID]\n",
    "        else:\n",
    "            gRNA_region_dict[row.target_transcript_name] = [row.protospacer_ID]\n",
    "            \n",
    "for key in gRNA_region_dict.keys():\n",
    "    gRNA_region_dict[key] = np.unique(gRNA_region_dict[key])\n",
    "    count_region_dict[key] = len(gRNA_region_dict[key])"
   ]
  },
  {
   "cell_type": "code",
   "execution_count": 9,
   "id": "89108761-a7a2-46e9-ace5-303ee06c3c24",
   "metadata": {
    "tags": []
   },
   "outputs": [
    {
     "data": {
      "text/plain": [
       "2228"
      ]
     },
     "execution_count": 9,
     "metadata": {},
     "output_type": "execute_result"
    }
   ],
   "source": [
    "len(gRNA_region_dict.keys())"
   ]
  },
  {
   "cell_type": "markdown",
   "id": "116e5296-f1be-4303-b798-259a468a89ae",
   "metadata": {
    "tags": []
   },
   "source": [
    "<h3>Calculate e-distance between gRNA per target</h3>"
   ]
  },
  {
   "cell_type": "code",
   "execution_count": 10,
   "id": "e63572f2-7dc6-4947-a1ff-202dab55ca86",
   "metadata": {
    "tags": []
   },
   "outputs": [],
   "source": [
    "result_df_dict = {}"
   ]
  },
  {
   "cell_type": "code",
   "execution_count": 11,
   "id": "dcb3207a-7e2f-4aa0-aff9-f5622850056e",
   "metadata": {
    "tags": []
   },
   "outputs": [],
   "source": [
    "def generate_sgrna_group_combinations(gRNA_list_target, combi_count):\n",
    "    \"\"\"\n",
    "    Generates unique pairs of sgRNA groups based on the input list.\n",
    "\n",
    "    Handles two cases based on the total number of gRNAs:\n",
    "    - If > 6: Uses a fixed combination size ('combi_count').\n",
    "    - If <= 6: Generates combinations of varying sizes.\n",
    "\n",
    "    Args:\n",
    "        gRNA_list_target (np.array): Array of sgRNA names for the current target region.\n",
    "        combi_count (int): The number of items to choose when total gRNAs > 6.\n",
    "\n",
    "    Returns:\n",
    "        list: A list of unique tuples, where each tuple contains two lists\n",
    "              representing a pair of sgRNA groups. e.g., [(['gA1'], ['gA2', 'gA3']), ...]\n",
    "    \"\"\"\n",
    "    total_combis_tmp = []\n",
    "    total_gRNA_num = len(gRNA_list_target)\n",
    "    gRNA_list_target_tuple = tuple(gRNA_list_target) # Use tuple for combinations\n",
    "\n",
    "    if total_gRNA_num > 6:\n",
    "        # Case 1: More than 6 gRNAs, use fixed combination size 'combi_count'\n",
    "        if total_gRNA_num < combi_count:\n",
    "            print(f\"Warning: total_gRNA_num ({total_gRNA_num}) < combi_count ({combi_count}). Skipping combination generation for this target.\")\n",
    "            return []\n",
    "        # Generate combinations of size 'combi_count'\n",
    "        for combis_tmp_tuple in combinations(gRNA_list_target_tuple, combi_count):\n",
    "            combis_tmp_set = set(combis_tmp_tuple)\n",
    "            # Split these 'combi_count' gRNAs into two non-empty groups\n",
    "            for first_group_num in range(1, combi_count):\n",
    "                for first_group_tuple in combinations(combis_tmp_tuple, first_group_num):\n",
    "                    # Efficiently find the second group using set difference\n",
    "                    second_group_set = combis_tmp_set - set(first_group_tuple)\n",
    "                    if second_group_set: # Ensure the second group is not empty\n",
    "                        total_combis_tmp.append((list(first_group_tuple), list(second_group_set)))\n",
    "\n",
    "    else:\n",
    "        # Case 2: 6 or fewer gRNAs, generate all pairs of non-empty, disjoint subsets\n",
    "        for num_count_1 in range(1, total_gRNA_num): # Size of the first group\n",
    "            for group1_tuple in combinations(gRNA_list_target_tuple, num_count_1):\n",
    "                # Find remaining gRNAs efficiently\n",
    "                remaining_gRNAs = tuple(g for g in gRNA_list_target_tuple if g not in group1_tuple)\n",
    "                if not remaining_gRNAs: # Need remaining gRNAs to form the second group\n",
    "                    continue\n",
    "                # Generate the second group from the remaining gRNAs\n",
    "                for num_count_2 in range(1, len(remaining_gRNAs) + 1): # Size of the second group\n",
    "                     for group2_tuple in combinations(remaining_gRNAs, num_count_2):\n",
    "                            total_combis_tmp.append((list(group1_tuple), list(group2_tuple)))\n",
    "\n",
    "    # Ensure uniqueness of pairs (consider order within pair irrelevant for uniqueness check initially)\n",
    "    # Convert lists to tuples for hashing, sort internal lists first, then the pair\n",
    "    # E.g. (['B', 'A'], ['C']) becomes (('A', 'B'), ('C',))\n",
    "    # E.g. (['C'], ['A', 'B']) becomes (('A', 'B'), ('C',))\n",
    "    seen_combinations = set()\n",
    "    unique_combis = []\n",
    "    for group1, group2 in total_combis_tmp:\n",
    "        tuple1 = tuple(sorted(group1))\n",
    "        tuple2 = tuple(sorted(group2))\n",
    "        # Sort the pair of tuples to handle cases like (g1, g2) vs (g2, g1) being the same split\n",
    "        frozen_pair = tuple(sorted((tuple1, tuple2)))\n",
    "        if frozen_pair not in seen_combinations:\n",
    "            seen_combinations.add(frozen_pair)\n",
    "            # Add back in the original list format\n",
    "            unique_combis.append((group1, group2))\n",
    "\n",
    "    # Note: The original code called util_functions.get_unique_list AFTER this.\n",
    "    # If get_unique_list does something more complex than the uniqueness logic here,\n",
    "    # you might need to adjust or call it after this function.\n",
    "    # Assuming the logic above correctly finds unique pairs.\n",
    "    return unique_combis\n",
    "\n",
    "\n",
    "def get_cells_for_sgrna_groups(group1, group2, gRNA_dict):\n",
    "    \"\"\"\n",
    "    Retrieves and combines unique cell identifiers for two groups of sgRNAs.\n",
    "\n",
    "    Args:\n",
    "        group1 (list): List of sgRNA names in the first group.\n",
    "        group2 (list): List of sgRNA names in the second group.\n",
    "        gRNA_dict (dict): Dictionary mapping sgRNA names to lists/arrays of cell identifiers.\n",
    "\n",
    "    Returns:\n",
    "        tuple: (np.array, np.array) containing unique cell identifiers for group1 and group2.\n",
    "               Returns (None, None) if a gRNA name is not found in gRNA_dict.\n",
    "    \"\"\"\n",
    "    try:\n",
    "        cells1 = np.unique(np.concatenate([gRNA_dict[name] for name in group1])) if group1 else np.array([])\n",
    "        cells2 = np.unique(np.concatenate([gRNA_dict[name] for name in group2])) if group2 else np.array([])\n",
    "        return cells1, cells2\n",
    "    except KeyError as e:\n",
    "        print(f\"Error: sgRNA name {e} not found in gRNA_dict.\")\n",
    "        return None, None\n",
    "    except Exception as e:\n",
    "        print(f\"An error occurred retrieving cells: {e}\")\n",
    "        return None, None\n",
    "    \n",
    "def calculate_distance(X, cell_test1, cell_test2, device):\n",
    "    \"\"\"\n",
    "    Calculates the distance between two cell groups using permutation_test.\n",
    "    Attempts GPU calculation first, falls back to CPU if memory error occurs.\n",
    "\n",
    "    Args:\n",
    "        X (np.array or similar): The data matrix (e.g., PCA coordinates).\n",
    "        cell_test1 (np.array): Array of cell identifiers for the first group.\n",
    "        cell_test2 (np.array): Array of cell identifiers for the second group.\n",
    "        device (str): The primary device to use ('cuda', 'cpu', etc.).\n",
    "\n",
    "    Returns:\n",
    "        float: The calculated distance, or -1.0 if calculation fails.\n",
    "    \"\"\"\n",
    "    if cell_test1 is None or cell_test2 is None: # Check if cell retrieval failed\n",
    "        return -1.0\n",
    "    if len(cell_test1) == 0 or len(cell_test2) == 0:\n",
    "        # Handle cases where one group has no cells (might happen if gRNA mapping is empty)\n",
    "        # Distance is ill-defined or could be considered infinite/maximal. Return -1 as indicator.\n",
    "        # print(f\"Warning: Empty cell group for combination {index_combi}. Skipping distance calculation.\")\n",
    "        return -1.0\n",
    "\n",
    "    mode = \"GPU\" if \"cuda\" in str(device) else \"CPU\" # Initial mode assumption\n",
    "    try:\n",
    "        # Assuming permutation_test takes numpy arrays for cell indices/names mapped to X\n",
    "        # Ensure X is indexed correctly based on cell_test1/cell_test2 content\n",
    "        # The original call used cell names/indices directly, assuming X is indexed accordingly.\n",
    "        obs_edist = energy_distance_calc.permutation_test(X, cell_test1, cell_test2, device,\n",
    "                                                     1, 1, return_permute=False).cpu()\n",
    "        return obs_edist.item()\n",
    "    except Exception as e_gpu: # Catch specific OOM error if possible, otherwise generic Exception\n",
    "        # Check if it looks like an Out Of Memory error (heuristic)\n",
    "        if 'memory' in str(e_gpu).lower():\n",
    "            mode = \"OOM -> CPU\"\n",
    "            try:\n",
    "                # Fallback to CPU\n",
    "                obs_edist = energy_distance_calc.permutation_test(X, cell_test1, cell_test2, \"cpu\",\n",
    "                                                             1, 1, return_permute=False).cpu()\n",
    "                return obs_edist.item()\n",
    "            except Exception as e_cpu:\n",
    "                # Handle CPU failure (e.g., data still too large even for CPU RAM)\n",
    "                print(f\"\\nError: CPU calculation failed for combi {index_combi+1} after GPU OOM. Data too large? Error: {e_cpu}\")\n",
    "                return -1.0\n",
    "        else:\n",
    "            # Handle other non-OOM GPU errors\n",
    "            print(f\"\\nError: GPU calculation failed for combi {index_combi+1} (not OOM). Error: {e_gpu}\")\n",
    "            return -1.0\n",
    "\n",
    "\n",
    "def format_results_dataframe(res, total_combis, gRNA_list_target):\n",
    "    \"\"\"\n",
    "    Creates a DataFrame from the distance results, sorts it, adds ranks,\n",
    "    and includes boolean flags for sgRNA membership in each combination.\n",
    "\n",
    "    Args:\n",
    "        res (list): List of calculated distances (-1.0 indicates failure).\n",
    "        total_combis (list): List of tuples, each containing two lists (sgRNA groups).\n",
    "        gRNA_list_target (np.array): Array of all sgRNA names for the current target.\n",
    "\n",
    "    Returns:\n",
    "        pd.DataFrame: A formatted DataFrame with results.\n",
    "    \"\"\"\n",
    "    if len(res) != len(total_combis):\n",
    "        print(f\"Warning: Mismatch between results count ({len(res)}) and combinations count ({len(total_combis)}). DataFrame might be incorrect.\")\n",
    "        # Attempt to proceed with the shorter length\n",
    "        min_len = min(len(res), len(total_combis))\n",
    "        res = res[:min_len]\n",
    "        total_combis = total_combis[:min_len]\n",
    "\n",
    "    result_df = pd.DataFrame({\n",
    "        \"e_dist\": res,\n",
    "        \"combis\": total_combis\n",
    "    })\n",
    "\n",
    "    # Filter out failed calculations if needed (optional, depends on desired output)\n",
    "    # result_df = result_df[result_df[\"e_dist\"] != -1.0]\n",
    "\n",
    "    result_df = result_df.sort_values(by=\"e_dist\").reset_index(drop=True)\n",
    "    result_df[\"rank\"] = result_df.index\n",
    "\n",
    "    # Add boolean columns for each sgRNA\n",
    "    for gRNA_name_tmp in gRNA_list_target:\n",
    "        result_df[gRNA_name_tmp] = result_df[\"combis\"].apply(\n",
    "            lambda x: (gRNA_name_tmp in x[0]) or (gRNA_name_tmp in x[1]) if isinstance(x, (list, tuple)) and len(x) == 2 else False\n",
    "        )\n",
    "\n",
    "    return result_df"
   ]
  },
  {
   "cell_type": "code",
   "execution_count": 12,
   "id": "b245a30e-a598-4570-9cf9-9f035452984b",
   "metadata": {
    "tags": []
   },
   "outputs": [
    {
     "name": "stdout",
     "output_type": "stream",
     "text": [
      "Processing 2227 target regions...\n"
     ]
    },
    {
     "name": "stderr",
     "output_type": "stream",
     "text": [
      "Overall Target Regions:   9%|▉         | 211/2227 [01:06<05:36,  6.00it/s, Current Target=NR4A3:P1P2]                                                                   "
     ]
    },
    {
     "name": "stdout",
     "output_type": "stream",
     "text": [
      "Skipping target 'CGGBP1:P1': Needs at least 2 gRNAs, found 1.\n"
     ]
    },
    {
     "name": "stderr",
     "output_type": "stream",
     "text": [
      "Overall Target Regions:  29%|██▉       | 647/2227 [03:00<08:05,  3.25it/s, Current Target=SKOR2:ENST00000400404.1,ENST00000425639.1]  "
     ]
    },
    {
     "name": "stdout",
     "output_type": "stream",
     "text": [
      "Skipping target 'SMARCC1:P1P2': Needs at least 2 gRNAs, found 1.\n"
     ]
    },
    {
     "name": "stderr",
     "output_type": "stream",
     "text": [
      "Overall Target Regions:  32%|███▏      | 708/2227 [03:17<08:54,  2.84it/s, Current Target=ZNF621:P1P2]                              "
     ]
    },
    {
     "name": "stdout",
     "output_type": "stream",
     "text": [
      "Skipping target 'SMARCC2:P1P2': Needs at least 2 gRNAs, found 1.\n"
     ]
    },
    {
     "name": "stderr",
     "output_type": "stream",
     "text": [
      "Overall Target Regions:  39%|███▉      | 871/2227 [03:58<03:53,  5.81it/s, Current Target=IKZF3:P1P2]                                                                   "
     ]
    },
    {
     "name": "stdout",
     "output_type": "stream",
     "text": [
      "Skipping target 'CD29': Needs at least 2 gRNAs, found 1.\n"
     ]
    },
    {
     "name": "stderr",
     "output_type": "stream",
     "text": [
      "Overall Target Regions:  40%|███▉      | 885/2227 [04:01<04:35,  4.87it/s, Current Target=TULP1:P1P2]                                "
     ]
    },
    {
     "name": "stdout",
     "output_type": "stream",
     "text": [
      "Skipping target 'GTF2H2:ENST00000274400.5,ENST00000330280.7': Needs at least 2 gRNAs, found 1.\n"
     ]
    },
    {
     "name": "stderr",
     "output_type": "stream",
     "text": [
      "Overall Target Regions:  41%|████      | 916/2227 [04:08<03:46,  5.79it/s, Current Target=ZNF599:P1P2]               "
     ]
    },
    {
     "name": "stdout",
     "output_type": "stream",
     "text": [
      "Skipping target 'PSMB1:P1P2': Needs at least 2 gRNAs, found 1.\n"
     ]
    },
    {
     "name": "stderr",
     "output_type": "stream",
     "text": [
      "Overall Target Regions:  42%|████▏     | 935/2227 [04:14<07:29,  2.87it/s, Current Target=ZNF251:P1P2] "
     ]
    },
    {
     "name": "stdout",
     "output_type": "stream",
     "text": [
      "Skipping target 'SRCAP:P1P2': Needs at least 2 gRNAs, found 1.\n"
     ]
    },
    {
     "name": "stderr",
     "output_type": "stream",
     "text": [
      "Overall Target Regions:  43%|████▎     | 962/2227 [04:21<06:39,  3.17it/s, Current Target=ZNF320:P1P2]                              "
     ]
    },
    {
     "name": "stdout",
     "output_type": "stream",
     "text": [
      "Skipping target 'CBFA2T3:P1': Needs at least 2 gRNAs, found 1.\n"
     ]
    },
    {
     "name": "stderr",
     "output_type": "stream",
     "text": [
      "Overall Target Regions:  46%|████▌     | 1021/2227 [04:37<07:11,  2.80it/s, Current Target=SMARCA2:P1P2]           "
     ]
    },
    {
     "name": "stdout",
     "output_type": "stream",
     "text": [
      "Skipping target 'IGHMBP2:P1P2': Needs at least 2 gRNAs, found 1.\n"
     ]
    },
    {
     "name": "stderr",
     "output_type": "stream",
     "text": [
      "Overall Target Regions:  47%|████▋     | 1047/2227 [04:44<05:25,  3.63it/s, Current Target=ZNF184:P1P2]              "
     ]
    },
    {
     "name": "stdout",
     "output_type": "stream",
     "text": [
      "Skipping target 'MSLN:P1P2': Needs at least 2 gRNAs, found 1.\n"
     ]
    },
    {
     "name": "stderr",
     "output_type": "stream",
     "text": [
      "Overall Target Regions:  48%|████▊     | 1071/2227 [04:49<04:32,  4.25it/s, Current Target=TEF:P2]      "
     ]
    },
    {
     "name": "stdout",
     "output_type": "stream",
     "text": [
      "Skipping target 'NGFRAP1': Needs at least 2 gRNAs, found 1.\n"
     ]
    },
    {
     "name": "stderr",
     "output_type": "stream",
     "text": [
      "Overall Target Regions:  50%|█████     | 1115/2227 [04:59<04:15,  4.36it/s, Current Target=ZNF229:P1P2] "
     ]
    },
    {
     "name": "stdout",
     "output_type": "stream",
     "text": [
      "Skipping target 'PHB2:P1P2': Needs at least 2 gRNAs, found 1.\n"
     ]
    },
    {
     "name": "stderr",
     "output_type": "stream",
     "text": [
      "Overall Target Regions:  65%|██████▌   | 1458/2227 [06:18<02:57,  4.33it/s, Current Target=THYN1:P1P2]                                 "
     ]
    },
    {
     "name": "stdout",
     "output_type": "stream",
     "text": [
      "Skipping target 'CXXC1:P1P2': Needs at least 2 gRNAs, found 1.\n"
     ]
    },
    {
     "name": "stderr",
     "output_type": "stream",
     "text": [
      "Overall Target Regions:  69%|██████▊   | 1526/2227 [06:33<02:33,  4.56it/s, Current Target=ZHX1:P1P2]              "
     ]
    },
    {
     "name": "stdout",
     "output_type": "stream",
     "text": [
      "Skipping target 'TSHZ2:P1P2': Needs at least 2 gRNAs, found 1.\n"
     ]
    },
    {
     "name": "stderr",
     "output_type": "stream",
     "text": [
      "Overall Target Regions:  71%|███████▏  | 1590/2227 [06:47<02:14,  4.72it/s, Current Target=ELK4:P1P2]               "
     ]
    },
    {
     "name": "stdout",
     "output_type": "stream",
     "text": [
      "Skipping target 'NCL:P1': Needs at least 2 gRNAs, found 1.\n"
     ]
    },
    {
     "name": "stderr",
     "output_type": "stream",
     "text": [
      "Overall Target Regions:  72%|███████▏  | 1600/2227 [06:49<01:30,  6.91it/s, Current Target=SMAD4:P1P2]  "
     ]
    },
    {
     "name": "stdout",
     "output_type": "stream",
     "text": [
      "Skipping target 'GTF2F2:P1P2': Needs at least 2 gRNAs, found 1.\n"
     ]
    },
    {
     "name": "stderr",
     "output_type": "stream",
     "text": [
      "Overall Target Regions:  72%|███████▏  | 1606/2227 [06:50<02:18,  4.48it/s, Current Target=OR14J1]                  "
     ]
    },
    {
     "name": "stdout",
     "output_type": "stream",
     "text": [
      "Skipping target 'WDHD1:P1P2': Needs at least 2 gRNAs, found 1.\n"
     ]
    },
    {
     "name": "stderr",
     "output_type": "stream",
     "text": [
      "Overall Target Regions:  75%|███████▌  | 1671/2227 [07:03<02:04,  4.47it/s, Current Target=PCGF2:P2]                                 "
     ]
    },
    {
     "name": "stdout",
     "output_type": "stream",
     "text": [
      "Skipping target 'CRTC3:P1P2': Needs at least 2 gRNAs, found 1.\n"
     ]
    },
    {
     "name": "stderr",
     "output_type": "stream",
     "text": [
      "Overall Target Regions:  76%|███████▌  | 1693/2227 [07:07<01:00,  8.82it/s, Current Target=LBX2:P1P2]             "
     ]
    },
    {
     "name": "stdout",
     "output_type": "stream",
     "text": [
      "Skipping target 'ZNF20:P1': Needs at least 2 gRNAs, found 1.\n",
      "Skipping target 'NCOA3:P1P2': Needs at least 2 gRNAs, found 1.\n"
     ]
    },
    {
     "name": "stderr",
     "output_type": "stream",
     "text": [
      "Overall Target Regions:  78%|███████▊  | 1740/2227 [07:17<01:21,  5.95it/s, Current Target=ZNF71:P1P2]               "
     ]
    },
    {
     "name": "stdout",
     "output_type": "stream",
     "text": [
      "Skipping target 'RELB:P1P2': Needs at least 2 gRNAs, found 1.\n"
     ]
    },
    {
     "name": "stderr",
     "output_type": "stream",
     "text": [
      "Overall Target Regions:  79%|███████▉  | 1766/2227 [07:23<01:04,  7.11it/s, Current Target=ESX1:P1P2]    "
     ]
    },
    {
     "name": "stdout",
     "output_type": "stream",
     "text": [
      "Skipping target 'E2F3:P2': Needs at least 2 gRNAs, found 1.\n"
     ]
    },
    {
     "name": "stderr",
     "output_type": "stream",
     "text": [
      "Overall Target Regions:  80%|████████  | 1782/2227 [07:26<01:03,  6.98it/s, Current Target=ID3:P1P2]                                                                      "
     ]
    },
    {
     "name": "stdout",
     "output_type": "stream",
     "text": [
      "Skipping target 'ARID1B:P1': Needs at least 2 gRNAs, found 1.\n",
      "Skipping target 'ZFYVE20:P1P2': Needs at least 2 gRNAs, found 1.\n",
      "Skipping target 'E4F1:P1P2': Needs at least 2 gRNAs, found 1.\n"
     ]
    },
    {
     "name": "stderr",
     "output_type": "stream",
     "text": [
      "Overall Target Regions:  80%|████████  | 1788/2227 [07:26<01:01,  7.10it/s, Current Target=LHX3:P2]     "
     ]
    },
    {
     "name": "stdout",
     "output_type": "stream",
     "text": [
      "Skipping target 'MTA1:P1P2': Needs at least 2 gRNAs, found 1.\n"
     ]
    },
    {
     "name": "stderr",
     "output_type": "stream",
     "text": [
      "Overall Target Regions:  80%|████████  | 1791/2227 [07:27<01:32,  4.73it/s, Current Target=KLF14:P1P2] "
     ]
    },
    {
     "name": "stdout",
     "output_type": "stream",
     "text": [
      "Skipping target 'MARS:P1P2': Needs at least 2 gRNAs, found 1.\n"
     ]
    },
    {
     "name": "stderr",
     "output_type": "stream",
     "text": [
      "Overall Target Regions:  81%|████████▏ | 1810/2227 [07:29<00:38, 10.74it/s, Current Target=LEF1:P1]     "
     ]
    },
    {
     "name": "stdout",
     "output_type": "stream",
     "text": [
      "Skipping target 'ZNF592:P1P2': Needs at least 2 gRNAs, found 1.\n"
     ]
    },
    {
     "name": "stderr",
     "output_type": "stream",
     "text": [
      "Overall Target Regions:  83%|████████▎ | 1849/2227 [07:36<00:43,  8.62it/s, Current Target=ZNF850:P1P2]                              "
     ]
    },
    {
     "name": "stdout",
     "output_type": "stream",
     "text": [
      "Skipping target 'ZNF207:P1': Needs at least 2 gRNAs, found 1.\n"
     ]
    },
    {
     "name": "stderr",
     "output_type": "stream",
     "text": [
      "Overall Target Regions:  84%|████████▍ | 1866/2227 [07:40<00:54,  6.63it/s, Current Target=MEF2B:P1P2]  "
     ]
    },
    {
     "name": "stdout",
     "output_type": "stream",
     "text": [
      "Skipping target 'ADNP:P1P2': Needs at least 2 gRNAs, found 1.\n"
     ]
    },
    {
     "name": "stderr",
     "output_type": "stream",
     "text": [
      "Overall Target Regions:  85%|████████▍ | 1891/2227 [07:46<00:42,  7.96it/s, Current Target=ZNF625:P1P2]                              "
     ]
    },
    {
     "name": "stdout",
     "output_type": "stream",
     "text": [
      "Skipping target 'HIRA:P2': Needs at least 2 gRNAs, found 1.\n"
     ]
    },
    {
     "name": "stderr",
     "output_type": "stream",
     "text": [
      "Overall Target Regions:  86%|████████▌ | 1912/2227 [07:49<00:27, 11.59it/s, Current Target=ZNF354A:P1P2]            "
     ]
    },
    {
     "name": "stdout",
     "output_type": "stream",
     "text": [
      "Skipping target 'GMEB1:P1P2': Needs at least 2 gRNAs, found 1.\n",
      "Skipping target 'POU5F1:P1': Needs at least 2 gRNAs, found 1.\n",
      "Skipping target 'DAXX:P1': Needs at least 2 gRNAs, found 1.\n"
     ]
    },
    {
     "name": "stderr",
     "output_type": "stream",
     "text": [
      "Overall Target Regions:  86%|████████▋ | 1924/2227 [07:50<00:31,  9.53it/s, Current Target=ZNF829:P1P2] "
     ]
    },
    {
     "name": "stdout",
     "output_type": "stream",
     "text": [
      "Skipping target 'CBFB:P1P2': Needs at least 2 gRNAs, found 1.\n"
     ]
    },
    {
     "name": "stderr",
     "output_type": "stream",
     "text": [
      "Overall Target Regions:  87%|████████▋ | 1942/2227 [07:55<01:06,  4.31it/s, Current Target=ZNF620:P1P2]"
     ]
    },
    {
     "name": "stdout",
     "output_type": "stream",
     "text": [
      "Skipping target 'DMAP1:P1P2': Needs at least 2 gRNAs, found 1.\n",
      "Skipping target 'PPP1CB:P1P2': Needs at least 2 gRNAs, found 1.\n"
     ]
    },
    {
     "name": "stderr",
     "output_type": "stream",
     "text": [
      "Overall Target Regions:  88%|████████▊ | 1949/2227 [07:56<00:37,  7.37it/s, Current Target=BCLAF1:P1P2]"
     ]
    },
    {
     "name": "stdout",
     "output_type": "stream",
     "text": [
      "Skipping target 'TAF13:P1P2': Needs at least 2 gRNAs, found 1.\n",
      "Skipping target 'ERG:P2': Needs at least 2 gRNAs, found 1.\n"
     ]
    },
    {
     "name": "stderr",
     "output_type": "stream",
     "text": [
      "Overall Target Regions:  88%|████████▊ | 1955/2227 [07:56<00:42,  6.34it/s, Current Target=FOXB2:ENST00000376708.1]"
     ]
    },
    {
     "name": "stdout",
     "output_type": "stream",
     "text": [
      "Skipping target 'ZNF709:P1P2': Needs at least 2 gRNAs, found 1.\n"
     ]
    },
    {
     "name": "stderr",
     "output_type": "stream",
     "text": [
      "Overall Target Regions:  89%|████████▉ | 1978/2227 [08:00<00:26,  9.55it/s, Current Target=MYCBP:P1P2]              "
     ]
    },
    {
     "name": "stdout",
     "output_type": "stream",
     "text": [
      "Skipping target 'SON:P1': Needs at least 2 gRNAs, found 1.\n"
     ]
    },
    {
     "name": "stderr",
     "output_type": "stream",
     "text": [
      "Overall Target Regions:  92%|█████████▏| 2044/2227 [08:10<00:34,  5.31it/s, Current Target=SOX10:P1P2]                                "
     ]
    },
    {
     "name": "stdout",
     "output_type": "stream",
     "text": [
      "Skipping target 'TFRC': Needs at least 2 gRNAs, found 1.\n"
     ]
    },
    {
     "name": "stderr",
     "output_type": "stream",
     "text": [
      "Overall Target Regions:  92%|█████████▏| 2058/2227 [08:13<00:33,  5.07it/s, Current Target=AHR:P1P2]               "
     ]
    },
    {
     "name": "stdout",
     "output_type": "stream",
     "text": [
      "Skipping target 'CBFA2T2:P1P2': Needs at least 2 gRNAs, found 1.\n"
     ]
    },
    {
     "name": "stderr",
     "output_type": "stream",
     "text": [
      "Overall Target Regions:  93%|█████████▎| 2071/2227 [08:16<00:22,  6.83it/s, Current Target=ZNF347:P1P2]            "
     ]
    },
    {
     "name": "stdout",
     "output_type": "stream",
     "text": [
      "Skipping target 'CD55': Needs at least 2 gRNAs, found 1.\n"
     ]
    },
    {
     "name": "stderr",
     "output_type": "stream",
     "text": [
      "Overall Target Regions:  94%|█████████▍| 2099/2227 [08:20<00:11, 10.96it/s, Current Target=TBX6:P1P2]               "
     ]
    },
    {
     "name": "stdout",
     "output_type": "stream",
     "text": [
      "Skipping target 'WHSC1:P1P2': Needs at least 2 gRNAs, found 1.\n"
     ]
    },
    {
     "name": "stderr",
     "output_type": "stream",
     "text": [
      "Overall Target Regions:  95%|█████████▍| 2106/2227 [08:22<00:25,  4.68it/s, Current Target=NEUROG3:P1P2]"
     ]
    },
    {
     "name": "stdout",
     "output_type": "stream",
     "text": [
      "Skipping target 'XRCC6:P1P2': Needs at least 2 gRNAs, found 1.\n"
     ]
    },
    {
     "name": "stderr",
     "output_type": "stream",
     "text": [
      "Overall Target Regions:  95%|█████████▍| 2113/2227 [08:22<00:16,  6.97it/s, Current Target=ZNF157:ENST00000377073.3]"
     ]
    },
    {
     "name": "stdout",
     "output_type": "stream",
     "text": [
      "Skipping target 'NFKB1:P1P2': Needs at least 2 gRNAs, found 1.\n",
      "Skipping target 'ZNF704:P1P2': Needs at least 2 gRNAs, found 1.\n",
      "Skipping target 'ZNF142:P1P2': Needs at least 2 gRNAs, found 1.\n"
     ]
    },
    {
     "name": "stderr",
     "output_type": "stream",
     "text": [
      "Overall Target Regions:  96%|█████████▌| 2132/2227 [08:26<00:21,  4.38it/s, Current Target=ZNF337:P1P2]             "
     ]
    },
    {
     "name": "stdout",
     "output_type": "stream",
     "text": [
      "Skipping target 'ZNF444:P1P2': Needs at least 2 gRNAs, found 1.\n"
     ]
    },
    {
     "name": "stderr",
     "output_type": "stream",
     "text": [
      "Overall Target Regions:  98%|█████████▊| 2178/2227 [08:32<00:03, 13.02it/s, Current Target=FOXE1:P1P2]               "
     ]
    },
    {
     "name": "stdout",
     "output_type": "stream",
     "text": [
      "Skipping target 'PUF60:P1P2': Needs at least 2 gRNAs, found 1.\n",
      "Skipping target 'CREM:ENST00000395895.2': Needs at least 2 gRNAs, found 1.\n"
     ]
    },
    {
     "name": "stderr",
     "output_type": "stream",
     "text": [
      "Overall Target Regions:  98%|█████████▊| 2183/2227 [08:32<00:02, 16.75it/s, Current Target=AIRE:P1P2]  "
     ]
    },
    {
     "name": "stdout",
     "output_type": "stream",
     "text": [
      "Skipping target 'B2M': Needs at least 2 gRNAs, found 1.\n"
     ]
    },
    {
     "name": "stderr",
     "output_type": "stream",
     "text": [
      "Overall Target Regions:  99%|█████████▊| 2198/2227 [08:33<00:01, 18.92it/s, Current Target=ZNF385A:P1]               "
     ]
    },
    {
     "name": "stdout",
     "output_type": "stream",
     "text": [
      "Skipping target 'EBF4:P1P2': Needs at least 2 gRNAs, found 1.\n",
      "Skipping target 'MALAT1': Needs at least 2 gRNAs, found 1.\n",
      "Skipping target 'ZNF395:P1P2': Needs at least 2 gRNAs, found 1.\n",
      "Skipping target 'DNAJC21:P1P2': Needs at least 2 gRNAs, found 1.\n",
      "Skipping target 'GLI2:ENST00000452319.1': Needs at least 2 gRNAs, found 1.\n",
      "Skipping target 'KLF16:P1P2': Needs at least 2 gRNAs, found 1.\n",
      "Skipping target 'MYRF:P1': Needs at least 2 gRNAs, found 1.\n",
      "Skipping target 'HDGF:P1P2': Needs at least 2 gRNAs, found 1.\n",
      "Skipping target 'SOX18:P1P2': Needs at least 2 gRNAs, found 1.\n",
      "Skipping target 'TERF2:P1P2': Needs at least 2 gRNAs, found 1.\n"
     ]
    },
    {
     "name": "stderr",
     "output_type": "stream",
     "text": [
      "Overall Target Regions: 100%|██████████| 2227/2227 [08:33<00:00,  4.34it/s, Current Target=ZNF700:P1P2] "
     ]
    },
    {
     "name": "stdout",
     "output_type": "stream",
     "text": [
      "Skipping target 'PURG:P1P2': Needs at least 2 gRNAs, found 1.\n",
      "Skipping target 'OR9Q1': Needs at least 2 gRNAs, found 1.\n",
      "Skipping target 'CTNNB1:P1P2': Needs at least 2 gRNAs, found 1.\n",
      "Skipping target 'PFDN5:P1P2': Needs at least 2 gRNAs, found 1.\n",
      "Skipping target 'SACM1L:P1P2': Needs at least 2 gRNAs, found 1.\n",
      "Skipping target 'SMARCA5:P1P2': Needs at least 2 gRNAs, found 1.\n",
      "Skipping target 'DNMT1:P1P2': Needs at least 2 gRNAs, found 1.\n",
      "Skipping target 'CDK1:P1P2': Needs at least 2 gRNAs, found 1.\n",
      "Skipping target 'ZNF700:P1P2': Needs at least 2 gRNAs, found 1.\n",
      "\n",
      "All target regions processed.\n"
     ]
    },
    {
     "name": "stderr",
     "output_type": "stream",
     "text": [
      "\n"
     ]
    }
   ],
   "source": [
    "# --- Main Processing Loop ---\n",
    "\n",
    "# gRNA_region_dict: Dict mapping region name to list/array of sgRNAs\n",
    "# gRNA_dict: Dict mapping sgRNA name to list/array of cells\n",
    "# X: Data matrix (e.g., PCA) indexed appropriately\n",
    "# device: Computation device ('cuda', 'cpu')\n",
    "# combi_count: Parameter for combination generation (e.g., 6)\n",
    "# result_df_dict: Dictionary to store results per target\n",
    "combi_count = 6\n",
    "\n",
    "result_df_dict = {} # Initialize result dictionary\n",
    "\n",
    "test_region_np = np.array(list(gRNA_region_dict.keys()))\n",
    "test_region_np = test_region_np[~(test_region_np==\"non-targeting\")]\n",
    "\n",
    "print(f\"Processing {len(test_region_np)} target regions...\")\n",
    "\n",
    "# Outer loop iterates through target regions\n",
    "pbar_targets = tqdm(test_region_np, desc=\"Overall Target Regions\")\n",
    "for target in pbar_targets:\n",
    "    pbar_targets.set_postfix({\n",
    "            \"Current Target\": target\n",
    "        })\n",
    "\n",
    "    gRNA_list_target = np.array(gRNA_region_dict[target])\n",
    "    if len(gRNA_list_target) < 2:\n",
    "        print(f\"Skipping target '{target}': Needs at least 2 gRNAs, found {len(gRNA_list_target)}.\")\n",
    "        continue\n",
    "\n",
    "    # 1. Generate combinations of sgRNA groups\n",
    "    # print(f\"\\nGenerating combinations for target: {target}\") # Optional verbose print\n",
    "    total_combis = generate_sgrna_group_combinations(gRNA_list_target, combi_count)\n",
    "\n",
    "    if not total_combis:\n",
    "        print(f\"Skipping target '{target}': No valid combinations generated.\")\n",
    "        continue\n",
    "\n",
    "    # print(f\"Generated {len(total_combis)} unique combinations for {target}.\") # Optional verbose print\n",
    "\n",
    "    # 2. Calculate distance for each combination\n",
    "    res = []\n",
    "    # Use a nested tqdm for combinations within a target, leaving the outer one clean\n",
    "    #pbar_combis = tqdm(enumerate(total_combis), total=len(total_combis), desc=f\"Target '{target}' Combinations\", leave=False)\n",
    "    for index_combi, (combi_test1, combi_test2) in enumerate(total_combis):\n",
    "        # Get cells for the current combination\n",
    "        cell_test1, cell_test2 = get_cells_for_sgrna_groups(combi_test1, combi_test2, gRNA_dict)\n",
    "        \n",
    "        # Try calculating on the primary device (potentially GPU)\n",
    "        # Calculate distance with GPU/CPU fallback\n",
    "        distance = calculate_distance(pca_df, cell_test1, cell_test2, device)\n",
    "        res.append(distance)\n",
    "\n",
    "    # 3. Format results into a DataFrame\n",
    "    # print(f\"\\nFormatting results for target: {target}\") # Optional verbose print\n",
    "    result_df = format_results_dataframe(res, total_combis, gRNA_list_target)\n",
    "\n",
    "    # Store the result DataFrame\n",
    "    result_df_dict[target] = result_df\n",
    "    # print(f\"Finished processing target: {target}\") # Optional verbose print\n",
    "\n",
    "print(\"\\nAll target regions processed.\")\n",
    "# Now result_df_dict contains the DataFrames for each target region."
   ]
  },
  {
   "cell_type": "code",
   "execution_count": 13,
   "id": "a9d16747-9da9-4004-9d2a-d85f2ead5dab",
   "metadata": {
    "tags": []
   },
   "outputs": [],
   "source": [
    "target_arr = np.array(list(result_df_dict.keys()))"
   ]
  },
  {
   "cell_type": "code",
   "execution_count": 14,
   "id": "b17aedb5-fced-45db-af4b-7185663b51b4",
   "metadata": {
    "tags": []
   },
   "outputs": [],
   "source": [
    "def determine_batch_size(total_cell_num, batch_num_basic):\n",
    "    \"\"\"\n",
    "    Determines the appropriate batch size based on the total number of cells.\n",
    "\n",
    "    Args:\n",
    "        total_cell_num (int): The total number of cells for the current target.\n",
    "        batch_num_basic (int): The default base batch number.\n",
    "\n",
    "    Returns:\n",
    "        int: The calculated batch size (at least 1).\n",
    "    \"\"\"\n",
    "    if total_cell_num > 20000:\n",
    "        batch_num = 1 # Smallest batch size for very large datasets\n",
    "    elif total_cell_num > 5000:\n",
    "        batch_num = batch_num_basic // 4 # Reduced batch size for large datasets\n",
    "    elif total_cell_num > 300:\n",
    "        batch_num = batch_num_basic // 2 # Reduced batch size for medium datasets\n",
    "    else:\n",
    "        batch_num = batch_num_basic # Basic batch size for smaller datasets\n",
    "    # Ensure batch size is at least 1\n",
    "    return max(1, batch_num)\n",
    "\n",
    "def run_disco_test(X, total_cell_list, device, batch_num, total_permute_disco, target_name):\n",
    "    \"\"\"\n",
    "    Runs the disco test, attempting GPU first and falling back to CPU.\n",
    "\n",
    "    Args:\n",
    "        X (array-like): The data matrix (e.g., PCA coordinates).\n",
    "        total_cell_list (list): A list where each element is a list/array of cell IDs\n",
    "                                corresponding to an sgRNA group.\n",
    "        device (str): The primary computation device ('cuda', 'cpu', etc.).\n",
    "        batch_num (int): The batch number for the test.\n",
    "        total_permute_disco (int): The total number of permutations used in the disco test.\n",
    "        target_name (str): The name of the target region (for logging).\n",
    "\n",
    "    Returns:\n",
    "        float: The calculated disco test p-value, or np.nan if the test fails completely.\n",
    "    \"\"\"\n",
    "    # Removed print statement for batch size here, logged before calling\n",
    "    try:\n",
    "        # Attempt calculation on the primary device (potentially GPU)\n",
    "        # print(f\"    Attempting disco test on device: {device} for {target_name}\", flush=True) # Optional verbose\n",
    "        obs_fvalue, fvalue_list = energy_distance_calc.disco_test(X, total_cell_list, device, batch_num=batch_num)\n",
    "        obs_fvalue = obs_fvalue.numpy(), \n",
    "        fvalue_list = fvalue_list.numpy()\n",
    "        \n",
    "        disco_pvalue = np.sum(fvalue_list > obs_fvalue) / total_permute_disco\n",
    "        #print(f\"    Disco test completed on {device} for {target_name}. p-value: {disco_pvalue:.4f}\", flush=True)\n",
    "        return disco_pvalue\n",
    "    except Exception as e_gpu:\n",
    "        error_str = str(e_gpu).lower()\n",
    "        if 'memory' in error_str or 'cuda' in error_str:\n",
    "            print(f\"    GPU execution failed for {target_name} (likely OOM). Falling back to CPU. Error: {e_gpu}\", flush=True)\n",
    "            try:\n",
    "                # print(f\"    Attempting disco test on CPU for {target_name}\", flush=True) # Optional verbose\n",
    "                obs_fvalue, fvalue_list = util_functions.disco_test(X, total_cell_list, \"cpu\", batch_num=batch_num)\n",
    "                disco_pvalue = np.sum(np.asarray(fvalue_list) > obs_fvalue) / total_permute_disco\n",
    "                #print(f\"    Disco test completed on CPU for {target_name}. p-value: {disco_pvalue:.4f}\", flush=True)\n",
    "                return disco_pvalue\n",
    "            except Exception as e_cpu:\n",
    "                print(f\"    CPU execution also failed for {target_name}. Skipping disco test. Error: {e_cpu}\", flush=True)\n",
    "                return np.nan\n",
    "        else:\n",
    "            #print(f\"    GPU execution failed for {target_name} (non-memory error). Skipping disco test. Error: {e_gpu}\", flush=True)\n",
    "            return np.nan\n",
    "\n",
    "\n",
    "def calculate_hypergeometric_pvalue(result_df, gRNA_name, significance_fraction):\n",
    "    \"\"\"\n",
    "    Calculates the p-value for a single sgRNA using the hypergeometric test.\n",
    "    Tests if the sgRNA is overrepresented in the highest e-dist ranks.\n",
    "\n",
    "    Args:\n",
    "        result_df (pd.DataFrame): DataFrame containing sorted e-distance results\n",
    "                                  and boolean flags for sgRNA membership per combination.\n",
    "        gRNA_name (str): The name of the sgRNA to calculate the p-value for.\n",
    "        significance_fraction (float): The fraction of top ranks to consider significant.\n",
    "\n",
    "    Returns:\n",
    "        float: The calculated hypergeometric p-value (right-tailed). Returns 1.0\n",
    "               if input parameters are invalid for the test.\n",
    "    \"\"\"\n",
    "    M = result_df.shape[0] # Population size (total combinations)\n",
    "    if M == 0:\n",
    "        # This case should ideally be caught before calling this function\n",
    "        return 1.0\n",
    "\n",
    "    n = result_df[gRNA_name].sum() # Successes in population (combinations with the gRNA)\n",
    "    # Ensure num_sig_diff calculation avoids zero, minimum 1 draw needed for test\n",
    "    num_sig_diff = max(1, int(M * significance_fraction)) # Number of draws (top ranked combinations)\n",
    "\n",
    "    # Get top ranks (highest e_dist -> bottom rows if sorted ascending)\n",
    "    result_df_right = result_df.iloc[-num_sig_diff:]\n",
    "    x = result_df_right[gRNA_name].sum() # Successes in draw (gRNA presence in top ranks)\n",
    "    N = num_sig_diff # Number of draws\n",
    "\n",
    "    # Validate parameters before passing to hypergeom.sf\n",
    "    if not (0 <= x <= min(n, N) and 0 < N <= M and 0 <= n <= M):\n",
    "        print(f\"    Warning: Invalid parameters for hypergeometric test for {gRNA_name}. \"\n",
    "              f\"[M={M}, n={n}, N={N}, x={x}]. Returning p=1.0\")\n",
    "        return 1.0\n",
    "\n",
    "    # P(X >= x) = 1 - P(X <= x-1) = sf(x-1)\n",
    "    p_val = hypergeom.sf(x - 1, M, n, N)\n",
    "    return round(p_val, 4)\n"
   ]
  },
  {
   "cell_type": "code",
   "execution_count": 15,
   "id": "ba927ea8-cb1d-49b1-ba8f-09e1c08d2c2e",
   "metadata": {
    "tags": []
   },
   "outputs": [
    {
     "name": "stdout",
     "output_type": "stream",
     "text": [
      "Starting Step 2: Disco Tests and Hypergeometric Outlier Calculation...\n"
     ]
    },
    {
     "name": "stderr",
     "output_type": "stream",
     "text": [
      "100%|██████████| 2155/2155 [18:03<00:00,  1.99it/s]"
     ]
    },
    {
     "name": "stdout",
     "output_type": "stream",
     "text": [
      "\n",
      "Finished processing all targets.\n",
      "Aggregating results and saving to CSV...\n",
      "Successfully saved outlier p-values to './pipeline_output/targeting_outlier_table.csv'\n"
     ]
    },
    {
     "name": "stderr",
     "output_type": "stream",
     "text": [
      "\n"
     ]
    }
   ],
   "source": [
    "# --- Constants ---\n",
    "# Define constants near the top for clarity and easy modification\n",
    "DISCO_P_VALUE_THRESHOLD = 0.05\n",
    "HYPERGEOM_SIGNIFICANCE_FRACTION = 0.5 # Top 10% for hypergeometric test\n",
    "\n",
    "# --- Main Processing Logic ---\n",
    "\n",
    "# Assume these variables are defined from previous steps:\n",
    "# result_df_dict: Dict mapping target name to results DataFrame\n",
    "# gRNA_region_dict: Dict mapping target region name to list/array of sgRNAs\n",
    "# gRNA_dict: Dict mapping sgRNA name to list/array of cells\n",
    "# X: Data matrix (e.g., PCA)\n",
    "# device: Computation device ('cuda', 'cpu')\n",
    "# batch_num_basic: Default batch number (integer)\n",
    "# total_permute_disco: Total permutations for disco test (integer)\n",
    "\n",
    "\n",
    "# Initialize dictionaries\n",
    "p_val_dict = {}\n",
    "disco_val_dict = {}\n",
    "\n",
    "print(\"Starting Step 2: Disco Tests and Hypergeometric Outlier Calculation...\")\n",
    "\n",
    "target_keys = list(result_df_dict.keys())\n",
    "num_targets = len(target_keys)\n",
    "\n",
    "for i, target in tqdm(enumerate(target_keys),total=len(target_keys)):\n",
    "\n",
    "    # --- 1. Data Preparation ---\n",
    "    if target not in result_df_dict or target not in gRNA_region_dict:\n",
    "        print(f\"  Warning: Missing data for target '{target}'. Skipping.\")\n",
    "        continue\n",
    "\n",
    "    result_df = result_df_dict[target]\n",
    "    gRNA_list_target = gRNA_region_dict[target] # Renamed for clarity\n",
    "\n",
    "    if not isinstance(gRNA_list_target, (list, np.ndarray)) or len(gRNA_list_target) == 0:\n",
    "        print(f\"  Warning: Invalid or empty gRNA list for target '{target}'. Skipping.\")\n",
    "        continue\n",
    "\n",
    "    # Prepare cell list and count total cells, handle errors\n",
    "    total_cell_list = []\n",
    "    total_cell_num = 0\n",
    "    valid_groups = 0 # Count groups that actually have cells\n",
    "    try:\n",
    "        cell_lists_temp = []\n",
    "        for gRNA_name in gRNA_list_target:\n",
    "            cells = gRNA_dict[gRNA_name] # Raises KeyError if missing\n",
    "            cell_lists_temp.append(cells)\n",
    "            if len(cells) > 0:\n",
    "                 valid_groups += 1\n",
    "        # Concatenate only non-empty lists if needed, but disco_test might handle list of lists directly\n",
    "        total_cell_list = cell_lists_temp # Pass the full list structure\n",
    "        # Calculate total cells more carefully if concatenation is memory intensive\n",
    "        total_cell_num = sum(len(cells) for cells in total_cell_list)\n",
    "\n",
    "    except KeyError as e:\n",
    "        print(f\"  Error: sgRNA name {e} not found in gRNA_dict for target '{target}'. Skipping.\")\n",
    "        # Clean up potentially large objects for this iteration before continuing\n",
    "        del result_df, gRNA_list_target\n",
    "        gc.collect()\n",
    "        continue\n",
    "\n",
    "    #print(f\"  Target: {target}, Num gRNAs: {len(gRNA_list_target)}, Total Cells: {total_cell_num}, Groups with Cells: {valid_groups}\")\n",
    "\n",
    "    # --- 2. Determine Batch Size ---\n",
    "    batch_num = determine_batch_size(total_cell_num, config[\"gRNA_filtering\"][\"batch_num_basic\"])\n",
    "    #print(f\"  Determined batch size: {batch_num}\")\n",
    "\n",
    "    # --- 3. Run Disco Test ---\n",
    "    if valid_groups < 2:\n",
    "        print(f\"  Skipping disco test for '{target}': Fewer than 2 sgRNAs have associated cells.\")\n",
    "        disco_pvalue = np.nan\n",
    "    else:\n",
    "        # Assuming disco_test can handle the list of cell lists directly\n",
    "        disco_pvalue = run_disco_test(pca_df, total_cell_list, device, batch_num, config[\"gRNA_filtering\"][\"total_permute_disco\"], target)\n",
    "\n",
    "    disco_val_dict[target] = disco_pvalue\n",
    "\n",
    "    # --- 4. Calculate Individual sgRNA p-values (Conditional) ---\n",
    "    # Check disco test outcome\n",
    "    if math.isnan(disco_pvalue) or disco_pvalue > DISCO_P_VALUE_THRESHOLD or len(gRNA_list_target) == 2:\n",
    "        if math.isnan(disco_pvalue):\n",
    "             log_msg = f\"Disco test failed or skipped for '{target}'.\"\n",
    "        elif disco_pvalue > DISCO_P_VALUE_THRESHOLD:\n",
    "             log_msg = f\"Disco test p-value ({disco_pvalue:.4f}) > {DISCO_P_VALUE_THRESHOLD} for '{target}'.\"\n",
    "        else: # len == 2 case\n",
    "             log_msg = f\"Target '{target}' has only 2 sgRNAs.\"\n",
    "        #print(f\"  {log_msg} Assigning default p-value (1.0) to its sgRNAs.\")\n",
    "\n",
    "        for gRNA_name_tmp in gRNA_list_target:\n",
    "            p_val_dict[gRNA_name_tmp] = 1.0\n",
    "\n",
    "    else:\n",
    "        # Disco test significant, proceed with hypergeometric tests\n",
    "        #print(f\"  Disco test significant (p={disco_pvalue:.4f}). Calculating hypergeometric p-values for sgRNAs in '{target}'.\")\n",
    "        if result_df.empty:\n",
    "            print(f\"  Warning: result_df for target '{target}' is empty. Cannot calculate hypergeometric p-values. Assigning 1.0.\")\n",
    "            for gRNA_name_tmp in gRNA_list_target:\n",
    "                p_val_dict[gRNA_name_tmp] = 1.0\n",
    "        else:\n",
    "            # Check if result_df contains expected columns\n",
    "            missing_cols = [g for g in gRNA_list_target if g not in result_df.columns]\n",
    "            if missing_cols:\n",
    "                print(f\"  Error: Missing gRNA columns in result_df for target '{target}': {missing_cols}. Assigning 1.0 p-value.\")\n",
    "                for gRNA_name_tmp in gRNA_list_target:\n",
    "                    p_val_dict[gRNA_name_tmp] = 1.0\n",
    "            else:\n",
    "                # Calculate p-value for each sgRNA\n",
    "                for gRNA_name_tmp in gRNA_list_target:\n",
    "                    p_value = calculate_hypergeometric_pvalue(result_df, gRNA_name_tmp, HYPERGEOM_SIGNIFICANCE_FRACTION)\n",
    "                    p_val_dict[gRNA_name_tmp] = p_value\n",
    "                    # print(f\"    p-value for {gRNA_name_tmp}: {p_value}\") # Optional verbose print\n",
    "    # gc.collect() # Uncomment if memory issues are severe, but adds overhead\n",
    "\n",
    "# --- 5. Final Output ---\n",
    "print(\"\\nFinished processing all targets.\")\n",
    "print(\"Aggregating results and saving to CSV...\")\n",
    "\n",
    "outlier_df = pd.Series(p_val_dict)\n",
    "outlier_df.name = \"pval_outlier\"\n",
    "\n",
    "output_csv_file = os.path.join(config[\"output_file_name_list\"][\"OUTPUT_FOLDER\"],\n",
    "                               config[\"output_file_name_list\"][\"targeting_outlier_table\"])\n",
    "\n",
    "try:\n",
    "    outlier_df.to_csv(output_csv_file, header=True)\n",
    "    print(f\"Successfully saved outlier p-values to '{output_csv_file}'\")\n",
    "except Exception as e:\n",
    "    print(f\"Error: Failed to save results to '{output_csv_file}'. Error: {e}\")"
   ]
  },
  {
   "cell_type": "markdown",
   "id": "c4f1f05e-0a8d-499c-a1ad-541f96c83762",
   "metadata": {},
   "source": [
    "### Filtering non-targeting gRNAs"
   ]
  },
  {
   "cell_type": "code",
   "execution_count": 16,
   "id": "3d47d4bd-e8d0-46bb-ae6e-791133adb794",
   "metadata": {
    "tags": []
   },
   "outputs": [],
   "source": [
    "non_target_gRNA_list = [item for item in list(gRNA_dict.keys()) \n",
    "                        if (item.startswith(\"non-targeting\")) and \n",
    "                        (len(gRNA_dict[item])>20)]\n",
    "cell_id_nontarget_list = [gRNA_dict[key] for key in non_target_gRNA_list]"
   ]
  },
  {
   "cell_type": "code",
   "execution_count": 17,
   "id": "2fd4fa18-0588-4c5c-b603-b81b8ef94f38",
   "metadata": {},
   "outputs": [
    {
     "name": "stderr",
     "output_type": "stream",
     "text": [
      "100%|██████████| 1559/1559 [00:03<00:00, 393.71it/s]\n"
     ]
    }
   ],
   "source": [
    "res = energy_distance_calc.pairwise_torch(pca_df,cell_id_nontarget_list,device,vardose=True)"
   ]
  },
  {
   "cell_type": "code",
   "execution_count": 18,
   "id": "40647a64-06ca-4590-9240-a68c8dfe8ae1",
   "metadata": {
    "tags": []
   },
   "outputs": [
    {
     "name": "stdout",
     "output_type": "stream",
     "text": [
      "k-means analysis of non-targeting\n",
      "[0 1 2] [462   1  95]\n",
      "largest group:  0\n",
      "largest group ratio:  0.828\n"
     ]
    }
   ],
   "source": [
    "# make Dataframe from results\n",
    "pairwise_list = np.zeros((len(non_target_gRNA_list),\n",
    "                          len(non_target_gRNA_list)\n",
    "                         ))\n",
    "for p1, p2, val in res:\n",
    "    pairwise_list[p1,p2]=val\n",
    "    pairwise_list[p2][p1]=val\n",
    "\n",
    "df = pd.DataFrame(pairwise_list.copy(),\n",
    "                  index=non_target_gRNA_list,\n",
    "                  columns=non_target_gRNA_list) \n",
    "\n",
    "df.index.name = \"sgRNA\"\n",
    "df.columns.name = \"sgRNA\"\n",
    "df.name = 'pairwise PCA distances'\n",
    "\n",
    "sigmas = np.diag(df.values)\n",
    "target_estats = 2 * df.values - sigmas - sigmas[:, np.newaxis]\n",
    "\n",
    "kmeans = KMeans(n_clusters=3, random_state=0, n_init=\"auto\").fit(target_estats)\n",
    "label,count = np.unique(kmeans.labels_,return_counts=True)\n",
    "print(\"k-means analysis of non-targeting\")\n",
    "print(label,count)\n",
    "#This is the non-target list for TF perturb seq\n",
    "\n",
    "largest_group_label = label[np.argmax(count)]\n",
    "largest_group_ratio = np.round(np.sum(kmeans.labels_==largest_group_label)/len(kmeans.labels_),3)\n",
    "\n",
    "print(\"largest group: \",largest_group_label)\n",
    "print(\"largest group ratio: \",largest_group_ratio)"
   ]
  },
  {
   "cell_type": "code",
   "execution_count": 19,
   "id": "cd6ae95e-3d62-4b93-a71a-8718fa6235c0",
   "metadata": {
    "tags": []
   },
   "outputs": [],
   "source": [
    "non_target_gRNA_name_df = pd.DataFrame(index=non_target_gRNA_list)\n",
    "non_target_gRNA_name_df[\"pval_outlier\"] = (kmeans.labels_==largest_group_label).astype(int)"
   ]
  },
  {
   "cell_type": "code",
   "execution_count": 20,
   "id": "1e23bf9f-b911-4818-a5d4-693674623824",
   "metadata": {
    "tags": []
   },
   "outputs": [],
   "source": [
    "#output the result\n",
    "nt_output_csv_file = os.path.join(config[\"output_file_name_list\"][\"OUTPUT_FOLDER\"],\n",
    "                                  config[\"output_file_name_list\"][\"non_targeting_outlier_table\"])\n",
    "\n",
    "non_target_gRNA_name_df.to_csv(nt_output_csv_file)"
   ]
  },
  {
   "cell_type": "code",
   "execution_count": null,
   "id": "a97ceef8-d5ae-4da5-9dfb-170078d76c72",
   "metadata": {},
   "outputs": [],
   "source": []
  }
 ],
 "metadata": {
  "kernelspec": {
   "display_name": "scanpy_gpu",
   "language": "python",
   "name": "scanpy_gpu"
  },
  "language_info": {
   "codemirror_mode": {
    "name": "ipython",
    "version": 3
   },
   "file_extension": ".py",
   "mimetype": "text/x-python",
   "name": "python",
   "nbconvert_exporter": "python",
   "pygments_lexer": "ipython3",
   "version": "3.12.2"
  }
 },
 "nbformat": 4,
 "nbformat_minor": 5
}
