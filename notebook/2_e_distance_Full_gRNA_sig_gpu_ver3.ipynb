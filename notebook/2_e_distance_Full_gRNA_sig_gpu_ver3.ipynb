{
 "cells": [
  {
   "cell_type": "code",
   "execution_count": 1,
   "id": "a1d9eca6-c357-4335-8321-e77d9efa6c39",
   "metadata": {
    "tags": []
   },
   "outputs": [
    {
     "name": "stderr",
     "output_type": "stream",
     "text": [
      "/project/GCRB/Hon_lab/s223695/anaconda3/envs/scanpy_gpu/lib/python3.12/site-packages/tqdm/auto.py:21: TqdmWarning: IProgress not found. Please update jupyter and ipywidgets. See https://ipywidgets.readthedocs.io/en/stable/user_install.html\n",
      "  from .autonotebook import tqdm as notebook_tqdm\n"
     ]
    }
   ],
   "source": [
    "import sys\n",
    "import os\n",
    "\n",
    "import pandas as pd\n",
    "import numpy as np\n",
    "import scanpy as sc\n",
    "\n",
    "from sklearn.cluster import KMeans\n",
    "import scipy.stats\n",
    "from itertools import combinations\n",
    "from sklearn.metrics import pairwise_distances\n",
    "\n",
    "import seaborn as sns\n",
    "import matplotlib.pyplot as plt\n",
    "plt.rcParams.update({'axes.labelsize' : 'large',\n",
    "                     'pdf.fonttype' : 42\n",
    "                    }) \n",
    "from matplotlib.backends.backend_pdf import PdfPages\n",
    "\n",
    "from tqdm import tqdm\n",
    "from tqdm.contrib.concurrent import process_map\n",
    "\n",
    "import gc\n",
    "import warnings\n",
    "import time\n",
    "import pickle\n",
    "import json\n",
    "\n",
    "from sklearn.metrics import pairwise_distances\n",
    "from multiprocessing import Pool\n",
    "import torch\n",
    "\n",
    "from importlib import reload\n",
    "import util_functions\n",
    "import energy_distance_calc"
   ]
  },
  {
   "cell_type": "code",
   "execution_count": 2,
   "id": "8a258110-e70d-4278-b1c3-3acb3ee25286",
   "metadata": {
    "tags": []
   },
   "outputs": [
    {
     "name": "stdout",
     "output_type": "stream",
     "text": [
      "/bin/bash: nvidia-smi: command not found\n"
     ]
    }
   ],
   "source": [
    "!nvidia-smi"
   ]
  },
  {
   "cell_type": "markdown",
   "id": "9c58f2d8-57dc-4f04-9178-d871494d05fe",
   "metadata": {},
   "source": [
    "<h2>sgRNA filtering Version 3</h2>\n",
    "1. Aggregate sgRNAs per genes<br>\n",
    "2. Permute 1000times & use 10 random non-targeting background = Total 10000 permutation/ TF<br>\n",
    "3. Calculate p-value by (total number of observed > shuffle for each background) / Total permutation<br>"
   ]
  },
  {
   "cell_type": "code",
   "execution_count": 3,
   "id": "32ef93c0-494e-404c-90ab-dfbc430cd129",
   "metadata": {
    "tags": []
   },
   "outputs": [
    {
     "name": "stdout",
     "output_type": "stream",
     "text": [
      "              total        used        free      shared  buff/cache   available\n",
      "Mem:         515524       13538      500456         384        1530      499783\n",
      "Swap:        131071         974      130097\n"
     ]
    }
   ],
   "source": [
    "!free -m"
   ]
  },
  {
   "cell_type": "code",
   "execution_count": 4,
   "id": "168e7de4-2f1e-41ff-ac7a-012f42eefad3",
   "metadata": {
    "tags": []
   },
   "outputs": [
    {
     "name": "stdout",
     "output_type": "stream",
     "text": [
      "--- Processing PCA data ---\n",
      "Loading existing PCA file './pipeline_output/pca_dataframe.pickle'.\n",
      "\n",
      "--- Processing gRNA dictionary ---\n",
      "Loading existing gRNA dictionary file './pipeline_output/gRNA_dictionary.pickle'.\n",
      "gRNA dictionary loaded successfully. Found 11634 types of gRNAs.\n",
      "\n",
      "--- Processing finished ---\n"
     ]
    }
   ],
   "source": [
    "json_fp = \"./config.json\"\n",
    "with open(json_fp, 'r') as fp:\n",
    "    config = json.load(fp)\n",
    "\n",
    "device = torch.device(\"cuda:0\" if torch.cuda.is_available() else \"cpu\")\n",
    "\n",
    "(pca_df,gRNA_dict) = util_functions.load_files(config[\"input_data\"][\"h5ad_file\"],\n",
    "                                               config[\"input_data\"][\"sgRNA_file\"],\n",
    "                                               os.path.join(config[\"output_file_name_list\"][\"OUTPUT_FOLDER\"],\n",
    "                                                            config[\"output_file_name_list\"][\"pca_table\"]),\n",
    "                                               os.path.join(config[\"output_file_name_list\"][\"OUTPUT_FOLDER\"],\n",
    "                                                            config[\"output_file_name_list\"][\"gRNA_dict\"]),\n",
    "                                               overwrite=False\n",
    "                                              )"
   ]
  },
  {
   "cell_type": "code",
   "execution_count": 5,
   "id": "2bd53516-f34c-4542-9213-c422f217c1dd",
   "metadata": {
    "tags": []
   },
   "outputs": [],
   "source": [
    "sgRNA_outlier_df = pd.read_csv(os.path.join(config[\"output_file_name_list\"][\"OUTPUT_FOLDER\"],\n",
    "                                                  config[\"output_file_name_list\"][\"targeting_outlier_table\"]),\n",
    "                                     index_col=0)\n",
    "\n",
    "nontargeting_outlier_df = pd.read_csv(os.path.join(config[\"output_file_name_list\"][\"OUTPUT_FOLDER\"],\n",
    "                                                         config[\"output_file_name_list\"][\"non_targeting_outlier_table\"]),\n",
    "                                            index_col=0)"
   ]
  },
  {
   "cell_type": "code",
   "execution_count": 6,
   "id": "6e58c11c-c8a0-4f6f-b919-0ab4ecf25c5c",
   "metadata": {
    "tags": []
   },
   "outputs": [
    {
     "data": {
      "text/html": [
       "<div>\n",
       "<style scoped>\n",
       "    .dataframe tbody tr th:only-of-type {\n",
       "        vertical-align: middle;\n",
       "    }\n",
       "\n",
       "    .dataframe tbody tr th {\n",
       "        vertical-align: top;\n",
       "    }\n",
       "\n",
       "    .dataframe thead th {\n",
       "        text-align: right;\n",
       "    }\n",
       "</style>\n",
       "<table border=\"1\" class=\"dataframe\">\n",
       "  <thead>\n",
       "    <tr style=\"text-align: right;\">\n",
       "      <th></th>\n",
       "      <th>pval_outlier</th>\n",
       "    </tr>\n",
       "  </thead>\n",
       "  <tbody>\n",
       "    <tr>\n",
       "      <th>DNAJC19_ B</th>\n",
       "      <td>1.0</td>\n",
       "    </tr>\n",
       "    <tr>\n",
       "      <th>DNAJC19_ main</th>\n",
       "      <td>0.5</td>\n",
       "    </tr>\n",
       "    <tr>\n",
       "      <th>DNAJC19_C</th>\n",
       "      <td>1.0</td>\n",
       "    </tr>\n",
       "    <tr>\n",
       "      <th>OR5K2-1</th>\n",
       "      <td>1.0</td>\n",
       "    </tr>\n",
       "    <tr>\n",
       "      <th>OR5K2-2</th>\n",
       "      <td>1.0</td>\n",
       "    </tr>\n",
       "  </tbody>\n",
       "</table>\n",
       "</div>"
      ],
      "text/plain": [
       "               pval_outlier\n",
       "DNAJC19_ B              1.0\n",
       "DNAJC19_ main           0.5\n",
       "DNAJC19_C               1.0\n",
       "OR5K2-1                 1.0\n",
       "OR5K2-2                 1.0"
      ]
     },
     "execution_count": 6,
     "metadata": {},
     "output_type": "execute_result"
    }
   ],
   "source": [
    "sgRNA_outlier_df.head()"
   ]
  },
  {
   "cell_type": "code",
   "execution_count": 7,
   "id": "65f1d6ab-3358-4572-8ac1-05ac611e0c57",
   "metadata": {
    "tags": []
   },
   "outputs": [
    {
     "data": {
      "text/html": [
       "<div>\n",
       "<style scoped>\n",
       "    .dataframe tbody tr th:only-of-type {\n",
       "        vertical-align: middle;\n",
       "    }\n",
       "\n",
       "    .dataframe tbody tr th {\n",
       "        vertical-align: top;\n",
       "    }\n",
       "\n",
       "    .dataframe thead th {\n",
       "        text-align: right;\n",
       "    }\n",
       "</style>\n",
       "<table border=\"1\" class=\"dataframe\">\n",
       "  <thead>\n",
       "    <tr style=\"text-align: right;\">\n",
       "      <th></th>\n",
       "      <th>pval_outlier</th>\n",
       "    </tr>\n",
       "  </thead>\n",
       "  <tbody>\n",
       "    <tr>\n",
       "      <th>non-targeting_00863</th>\n",
       "      <td>1</td>\n",
       "    </tr>\n",
       "    <tr>\n",
       "      <th>non-targeting_01035</th>\n",
       "      <td>0</td>\n",
       "    </tr>\n",
       "    <tr>\n",
       "      <th>non-targeting_03262</th>\n",
       "      <td>1</td>\n",
       "    </tr>\n",
       "    <tr>\n",
       "      <th>non-targeting_01294</th>\n",
       "      <td>1</td>\n",
       "    </tr>\n",
       "    <tr>\n",
       "      <th>non-targeting_00712</th>\n",
       "      <td>1</td>\n",
       "    </tr>\n",
       "  </tbody>\n",
       "</table>\n",
       "</div>"
      ],
      "text/plain": [
       "                     pval_outlier\n",
       "non-targeting_00863             1\n",
       "non-targeting_01035             0\n",
       "non-targeting_03262             1\n",
       "non-targeting_01294             1\n",
       "non-targeting_00712             1"
      ]
     },
     "execution_count": 7,
     "metadata": {},
     "output_type": "execute_result"
    }
   ],
   "source": [
    "nontargeting_outlier_df.head()"
   ]
  },
  {
   "cell_type": "code",
   "execution_count": 8,
   "id": "0759f82c-6d21-43ec-a26d-22d80a32943c",
   "metadata": {
    "tags": []
   },
   "outputs": [],
   "source": [
    "clear_sgRNA_list = sgRNA_outlier_df[sgRNA_outlier_df[\"pval_outlier\"]>0.05].index.tolist()\n",
    "clear_nt_sgRNA_list = nontargeting_outlier_df[nontargeting_outlier_df[\"pval_outlier\"]>0.05].index.tolist()"
   ]
  },
  {
   "cell_type": "code",
   "execution_count": 9,
   "id": "f5854789-06f5-47aa-8398-7adb5286539d",
   "metadata": {
    "tags": []
   },
   "outputs": [
    {
     "data": {
      "text/html": [
       "<div>\n",
       "<style scoped>\n",
       "    .dataframe tbody tr th:only-of-type {\n",
       "        vertical-align: middle;\n",
       "    }\n",
       "\n",
       "    .dataframe tbody tr th {\n",
       "        vertical-align: top;\n",
       "    }\n",
       "\n",
       "    .dataframe thead th {\n",
       "        text-align: right;\n",
       "    }\n",
       "</style>\n",
       "<table border=\"1\" class=\"dataframe\">\n",
       "  <thead>\n",
       "    <tr style=\"text-align: right;\">\n",
       "      <th></th>\n",
       "      <th>protospacer_ID</th>\n",
       "      <th>target_transcript_name</th>\n",
       "      <th>target_gene_name</th>\n",
       "      <th>source</th>\n",
       "      <th>protospacer</th>\n",
       "      <th>reverse_compliment</th>\n",
       "    </tr>\n",
       "  </thead>\n",
       "  <tbody>\n",
       "    <tr>\n",
       "      <th>0</th>\n",
       "      <td>DNAJC19_ B</td>\n",
       "      <td>DNAJC19</td>\n",
       "      <td>DNAJC19</td>\n",
       "      <td>pos_control</td>\n",
       "      <td>GGGAACTCCTGTAAGGTCAG</td>\n",
       "      <td>CTGACCTTACAGGAGTTCCC</td>\n",
       "    </tr>\n",
       "    <tr>\n",
       "      <th>1</th>\n",
       "      <td>POLR1D_ B</td>\n",
       "      <td>POLR1D</td>\n",
       "      <td>POLR1D</td>\n",
       "      <td>pos_control</td>\n",
       "      <td>GGGAAGCAAGGACCGACCGA</td>\n",
       "      <td>TCGGTCGGTCCTTGCTTCCC</td>\n",
       "    </tr>\n",
       "    <tr>\n",
       "      <th>2</th>\n",
       "      <td>OR5K2-2</td>\n",
       "      <td>OR5K2</td>\n",
       "      <td>OR5K2</td>\n",
       "      <td>neg_control</td>\n",
       "      <td>GAAAAAATTGTAGAGGAATA</td>\n",
       "      <td>TATTCCTCTACAATTTTTTC</td>\n",
       "    </tr>\n",
       "    <tr>\n",
       "      <th>3</th>\n",
       "      <td>SP1_+_53773993.23-P1P2-1</td>\n",
       "      <td>SP1:P1P2</td>\n",
       "      <td>SP1</td>\n",
       "      <td>target</td>\n",
       "      <td>GAAAAACGCGGACGCTGACG</td>\n",
       "      <td>CGTCAGCGTCCGCGTTTTTC</td>\n",
       "    </tr>\n",
       "    <tr>\n",
       "      <th>4</th>\n",
       "      <td>SP8_-_20826141.23-P1P2-2</td>\n",
       "      <td>SP8:P1P2</td>\n",
       "      <td>SP8</td>\n",
       "      <td>target</td>\n",
       "      <td>GAAAAAGATCCTCTGAGAGG</td>\n",
       "      <td>CCTCTCAGAGGATCTTTTTC</td>\n",
       "    </tr>\n",
       "  </tbody>\n",
       "</table>\n",
       "</div>"
      ],
      "text/plain": [
       "             protospacer_ID target_transcript_name target_gene_name  \\\n",
       "0                DNAJC19_ B                DNAJC19          DNAJC19   \n",
       "1                 POLR1D_ B                 POLR1D           POLR1D   \n",
       "2                   OR5K2-2                  OR5K2            OR5K2   \n",
       "3  SP1_+_53773993.23-P1P2-1               SP1:P1P2              SP1   \n",
       "4  SP8_-_20826141.23-P1P2-2               SP8:P1P2              SP8   \n",
       "\n",
       "        source           protospacer    reverse_compliment  \n",
       "0  pos_control  GGGAACTCCTGTAAGGTCAG  CTGACCTTACAGGAGTTCCC  \n",
       "1  pos_control  GGGAAGCAAGGACCGACCGA  TCGGTCGGTCCTTGCTTCCC  \n",
       "2  neg_control  GAAAAAATTGTAGAGGAATA  TATTCCTCTACAATTTTTTC  \n",
       "3       target  GAAAAACGCGGACGCTGACG  CGTCAGCGTCCGCGTTTTTC  \n",
       "4       target  GAAAAAGATCCTCTGAGAGG  CCTCTCAGAGGATCTTTTTC  "
      ]
     },
     "execution_count": 9,
     "metadata": {},
     "output_type": "execute_result"
    }
   ],
   "source": [
    "annotation_df = pd.read_csv(os.path.join(config[\"output_file_name_list\"][\"OUTPUT_FOLDER\"],\n",
    "                                         config[\"output_file_name_list\"][\"annotation_file\"]),index_col=0)\n",
    "annotation_df.head()"
   ]
  },
  {
   "cell_type": "code",
   "execution_count": 10,
   "id": "b9eb643d-0f13-4f88-895b-f82ac1c3a59c",
   "metadata": {
    "tags": []
   },
   "outputs": [],
   "source": [
    "gRNA_region_dict = util_functions.get_gRNA_region_dict(annotation_df,gRNA_dict)"
   ]
  },
  {
   "cell_type": "code",
   "execution_count": 11,
   "id": "4c53620a-90cf-44bb-89dc-2c5abe30cc98",
   "metadata": {
    "tags": []
   },
   "outputs": [],
   "source": [
    "gRNA_region_clear_dict = {}\n",
    "\n",
    "for key in gRNA_region_dict.keys():\n",
    "    gRNA_list_tmp = [x for x in gRNA_region_dict[key] if x in clear_sgRNA_list]\n",
    "    if len(gRNA_list_tmp)!=0:\n",
    "        gRNA_region_clear_dict[key] = [x for x in gRNA_region_dict[key] if x in clear_sgRNA_list]"
   ]
  },
  {
   "cell_type": "code",
   "execution_count": 13,
   "id": "115e0252-b87e-4fc3-91ea-5b6604276d4c",
   "metadata": {
    "tags": []
   },
   "outputs": [],
   "source": [
    "cell_per_region_dict = {}\n",
    "for key in gRNA_region_clear_dict.keys():\n",
    "    cell_list_tmp = [gRNA_dict[i] for i in gRNA_region_clear_dict[key]]\n",
    "    cell_list_tmp = np.concatenate(cell_list_tmp)\n",
    "    cell_per_region_dict[key] = np.unique(cell_list_tmp)"
   ]
  },
  {
   "cell_type": "markdown",
   "id": "dcc93332-4927-4166-b388-3ee16b791f5f",
   "metadata": {},
   "source": [
    "<h3>Calculate p-values with Permutation test</h3>"
   ]
  },
  {
   "cell_type": "markdown",
   "id": "630c0f08-0bbe-4259-b7d6-01a3abe149ff",
   "metadata": {},
   "source": [
    "1. Aggregate per transcript<br>\n",
    "2. Calculate Distance between non-target<br>\n",
    "2. Mix and sample picking same number as test and control\n",
    "3. Calculate e-distance between two samples\n",
    "4. Repeat 1000times(100000times in the future)"
   ]
  },
  {
   "cell_type": "code",
   "execution_count": 14,
   "id": "b5fef9aa-76ec-45f3-9aba-c60ff3979b12",
   "metadata": {
    "tags": []
   },
   "outputs": [
    {
     "name": "stdout",
     "output_type": "stream",
     "text": [
      "Total: 2155\n"
     ]
    }
   ],
   "source": [
    "print(\"Total:\",len(gRNA_region_clear_dict.keys()))"
   ]
  },
  {
   "cell_type": "code",
   "execution_count": 15,
   "id": "afae3c18-07ec-4736-b957-be1e43d82af3",
   "metadata": {
    "tags": []
   },
   "outputs": [],
   "source": [
    "permute_per_bg = config[\"permutation_test\"][\"permute_per_bg\"]\n",
    "num_of_bg = config[\"permutation_test\"][\"num_of_bg\"]\n",
    "non_target_pick = config[\"permutation_test\"][\"non_target_pick\"]\n",
    "batch_num_basic = config[\"permutation_test\"][\"batch_num_basic\"]\n",
    "\n",
    "d_tmp = np.log10(0.1/(permute_per_bg*num_of_bg))\n",
    "d_tmp = np.round(d_tmp)\n",
    "d_tmp = np.power(10,d_tmp)"
   ]
  },
  {
   "cell_type": "code",
   "execution_count": 16,
   "id": "4ab3a810-8543-4f31-9f2d-0a1725a47df6",
   "metadata": {
    "tags": []
   },
   "outputs": [],
   "source": [
    "non_target_cell_name = [gRNA_dict[i] for i in clear_nt_sgRNA_list]\n",
    "\n",
    "#concatenate all list together\n",
    "non_target_cell_name = sum(non_target_cell_name,[])\n",
    "\n",
    "#unique cell id list\n",
    "non_target_cell_name = sorted(list(set(non_target_cell_name)))"
   ]
  },
  {
   "cell_type": "code",
   "execution_count": 17,
   "id": "ba1de52a-97fe-4562-8e7d-4741c802e8a6",
   "metadata": {
    "tags": []
   },
   "outputs": [],
   "source": [
    "#fix random cell with seed\n",
    "np.random.seed(0)\n",
    "\n",
    "non_target_cell_name_reduced = []\n",
    "\n",
    "for i in range(num_of_bg):\n",
    "    non_target_cell_name_reduced.append(np.random.choice(non_target_cell_name,non_target_pick))"
   ]
  },
  {
   "cell_type": "code",
   "execution_count": 18,
   "id": "1b76819f-3315-4115-8ca1-58b257234c2d",
   "metadata": {
    "tags": []
   },
   "outputs": [],
   "source": [
    "output_file = os.path.join(config[\"output_file_name_list\"][\"OUTPUT_FOLDER\"],\n",
    "                           config[\"output_file_name_list\"][\"edist_pvalue_table\"])"
   ]
  },
  {
   "cell_type": "code",
   "execution_count": 44,
   "id": "2775bf5c-5b50-466e-b999-698bfbf3ed26",
   "metadata": {
    "tags": []
   },
   "outputs": [],
   "source": [
    "def get_source_target(target_name,annotation_df,annotation_col=\"target_transcript_name\"):\n",
    "    return annotation_df[annotation_df[\"target_transcript_name\"]==target_name].loc[:,\"source\"].values[0]\n",
    "\n",
    "def adjust_processing_parameters(target_cell_names, default_batch_num):\n",
    "    \"\"\"\n",
    "    Adjusts batch number and performs downsampling based on the number of target cells.\n",
    "\n",
    "    Args:\n",
    "        target_cell_names (list or np.ndarray): List of target cell names.\n",
    "        default_batch_num (int): The default batch number to use.\n",
    "\n",
    "    Returns:\n",
    "        tuple: A tuple containing:\n",
    "            - adjusted_cell_names (list or np.ndarray): Original or downsampled cell names.\n",
    "            - batch_num (int): The adjusted batch number.\n",
    "    \"\"\"\n",
    "    cell_count = len(target_cell_names)\n",
    "    adjusted_cell_names = target_cell_names\n",
    "    processing_flag = 0 # Default flag\n",
    "\n",
    "    if cell_count > 5000:\n",
    "        batch_num = 40\n",
    "        # Downsample to 5000 cells without replacement\n",
    "        adjusted_cell_names = np.random.choice(target_cell_names, 5000, replace=False)\n",
    "        print(f\"Target region with initially {cell_count} cells is downsampled to 5000.\")\n",
    "    elif cell_count > 2000:\n",
    "        batch_num = 50\n",
    "    elif cell_count > 1000:\n",
    "        batch_num = 100\n",
    "    else:\n",
    "        batch_num = default_batch_num # Use default if below thresholds\n",
    "\n",
    "    # Note: The 'processing_flag' seems unused later in the provided snippet,\n",
    "    # but is retained to match the original logic's variable assignments.\n",
    "    return adjusted_cell_names, batch_num\n",
    "\n",
    "def remove_overlap_cells(target_cells, non_target_cells):\n",
    "    \"\"\"\n",
    "    Removes overlapping cell names between target and non-target sets.\n",
    "\n",
    "    Args:\n",
    "        target_cells (list or set): Collection of target cell names.\n",
    "        non_target_cells (list or set): Collection of non-target cell names.\n",
    "\n",
    "    Returns:\n",
    "        tuple: A tuple containing:\n",
    "            - target_cells_clear (list): Target cells with overlap removed.\n",
    "            - non_target_cells_clear (list): Non-target cells with overlap removed.\n",
    "    \"\"\"\n",
    "    target_set = set(target_cells)\n",
    "    non_target_set = set(non_target_cells)\n",
    "\n",
    "    overlap = target_set & non_target_set\n",
    "    target_cells_clear = list(target_set - overlap)\n",
    "    non_target_cells_clear = list(non_target_set - overlap)\n",
    "\n",
    "    return target_cells_clear, non_target_cells_clear\n",
    "\n",
    "def run_permutation_test_with_fallback(pbar, pca_df, target_cells, non_target_cells,\n",
    "                                     gpu_device, batch_num, permutations,\n",
    "                                     current_iter_info, total_cell_info):\n",
    "    \"\"\"\n",
    "    Runs the energy distance permutation test, attempting GPU first and falling back to CPU.\n",
    "\n",
    "    Args:\n",
    "        pbar (tqdm): The progress bar instance to update postfix.\n",
    "        pca_df (pd.DataFrame): DataFrame containing PCA results.\n",
    "        target_cells (list): List of target cell names (cleared of overlap).\n",
    "        non_target_cells (list): List of non-target cell names (cleared of overlap).\n",
    "        gpu_device (torch.device or str): The primary device (GPU) to try.\n",
    "        batch_num (int): Batch number for calculation.\n",
    "        permutations (int): Number of permutations for the test.\n",
    "        current_iter_info (any): Information about the current iteration for postfix.\n",
    "        total_cell_info (any): Information about the total cells for postfix.\n",
    "\n",
    "\n",
    "    Returns:\n",
    "        tuple: A tuple containing:\n",
    "            - obs_edist (float or None): Observed energy distance, or None if calculation failed.\n",
    "            - e_dist_list (list or None): List of energy distances from permutations, or None.\n",
    "    \"\"\"\n",
    "    obs_edist, e_dist_list = None, None\n",
    "    mode = gpu_device # Assume GPU initially\n",
    "\n",
    "    try:\n",
    "        pbar.set_postfix({\n",
    "            \"total cell num\": total_cell_info,\n",
    "            \"current iter\": current_iter_info,\n",
    "            \"mode\": mode\n",
    "        })\n",
    "        # Attempt GPU calculation\n",
    "        obs_edist, e_dist_list = energy_distance_calc.permutation_test(\n",
    "            pca_df, target_cells, non_target_cells,\n",
    "            gpu_device, batch_num, permutations\n",
    "        )\n",
    "        # print(f\"Calculation successful on {mode}\") # Optional: uncomment for verbose output\n",
    "        return obs_edist, e_dist_list\n",
    "\n",
    "    except Exception as e_gpu:\n",
    "        print(f\"GPU calculation failed: {e_gpu}. Attempting CPU fallback...\")\n",
    "        # Clean up GPU memory before CPU attempt\n",
    "        gc.collect()\n",
    "        if torch.cuda.is_available():\n",
    "             torch.cuda.empty_cache()\n",
    "\n",
    "        mode = \"CPU\" # Switch mode for postfix and calculation\n",
    "        pbar.set_postfix({\n",
    "            \"total cell num\": total_cell_info,\n",
    "            \"current iter\": current_iter_info,\n",
    "            \"mode\": mode\n",
    "        })\n",
    "\n",
    "        try:\n",
    "            # Attempt CPU calculation\n",
    "            obs_edist, e_dist_list = energy_distance_calc.permutation_test(\n",
    "                pca_df, target_cells, non_target_cells,\n",
    "                \"cpu\", batch_num, permutations # Explicitly use \"cpu\"\n",
    "            )\n",
    "            # print(f\"Calculation successful on {mode}\") # Optional: uncomment for verbose output\n",
    "            return obs_edist, e_dist_list\n",
    "\n",
    "        except Exception as e_cpu:\n",
    "            # Both GPU and CPU attempts failed\n",
    "            print(f\"CPU calculation also failed: {e_cpu}\")\n",
    "            print(\"Skipping energy distance calculation for this iteration.\")\n",
    "            # Return None to indicate failure\n",
    "            return None, None\n",
    "\n",
    "\n",
    "def save_results(data_dict, output_filename,pval_d=0.00001):\n",
    "    \"\"\"\n",
    "    Saves the results dictionary to a CSV file.\n",
    "\n",
    "    Args:\n",
    "        data_dict (dict): The dictionary containing results.\n",
    "        output_filename (str): Path to the output CSV file.\n",
    "    \"\"\"\n",
    "\n",
    "    for key in data_dict.keys():\n",
    "        distance_sum = 0\n",
    "        pval_sum = 0\n",
    "\n",
    "        for bg_index in range(num_of_bg):\n",
    "            distance_sum += data_dict[key][\"distance_\"+str(bg_index)]\n",
    "            pval_sum += data_dict[key][\"pval_\"+str(bg_index)]\n",
    "\n",
    "        data_dict[key][\"distance_mean\"] = distance_sum/num_of_bg\n",
    "        data_dict[key][\"pval_mean\"] = pval_sum/num_of_bg\n",
    "\n",
    "        data_dict[key][\"pval_mean_log\"] = -np.log10(data_dict[key][\"pval_mean\"]+d_tmp)\n",
    "        data_dict[key][\"distance_mean_log\"] = np.log10(data_dict[key][\"distance_mean\"])\n",
    "\n",
    "    try:\n",
    "        pd.DataFrame(data_dict).T.to_csv(output_filename)\n",
    "        # print(f\"Results saved to {output_filename}\") # Optional: uncomment for confirmation\n",
    "    except Exception as e:\n",
    "        print(f\"Error saving results to {output_filename}: {e}\")"
   ]
  },
  {
   "cell_type": "code",
   "execution_count": 26,
   "id": "ec08a3a4-a87a-4bb3-9923-229d68ccf954",
   "metadata": {
    "tags": []
   },
   "outputs": [
    {
     "name": "stderr",
     "output_type": "stream",
     "text": [
      "Processing DNAJC19:   0%|          | 0/2227 [00:03<?, ?it/s, total cell num=837, current iter=3/20, mode=cpu]Exception ignored in: <bound method IPythonKernel._clean_thread_parent_frames of <ipykernel.ipkernel.IPythonKernel object at 0x2aaab4db6510>>\n",
      "Traceback (most recent call last):\n",
      "  File \"/project/GCRB/Hon_lab/s223695/anaconda3/envs/scanpy_gpu/lib/python3.12/site-packages/ipykernel/ipkernel.py\", line 770, in _clean_thread_parent_frames\n",
      "    def _clean_thread_parent_frames(\n",
      "\n",
      "KeyboardInterrupt: \n",
      "Processing DNAJC19:   0%|          | 0/2227 [00:05<?, ?it/s, total cell num=837, current iter=3/20, mode=CPU]"
     ]
    },
    {
     "name": "stdout",
     "output_type": "stream",
     "text": [
      "GPU calculation failed: . Attempting CPU fallback...\n"
     ]
    },
    {
     "name": "stderr",
     "output_type": "stream",
     "text": [
      "Processing DNAJC19:   0%|          | 0/2227 [00:06<?, ?it/s, total cell num=837, current iter=4/20, mode=cpu]"
     ]
    },
    {
     "name": "stdout",
     "output_type": "stream",
     "text": [
      "CPU calculation also failed: \n",
      "Skipping energy distance calculation for this iteration.\n",
      "Stored NaN for DNAJC19, background 2 due to calculation failure.\n"
     ]
    },
    {
     "name": "stderr",
     "output_type": "stream",
     "text": [
      "Processing DNAJC19:   0%|          | 0/2227 [00:10<?, ?it/s, total cell num=837, current iter=6/20, mode=cpu]Exception ignored in: <bound method IPythonKernel._clean_thread_parent_frames of <ipykernel.ipkernel.IPythonKernel object at 0x2aaab4db6510>>\n",
      "Traceback (most recent call last):\n",
      "  File \"/project/GCRB/Hon_lab/s223695/anaconda3/envs/scanpy_gpu/lib/python3.12/site-packages/ipykernel/ipkernel.py\", line 770, in _clean_thread_parent_frames\n",
      "    def _clean_thread_parent_frames(\n",
      "\n",
      "KeyboardInterrupt: \n",
      "Processing DNAJC19:   0%|          | 0/2227 [00:10<?, ?it/s, total cell num=837, current iter=6/20, mode=CPU]"
     ]
    },
    {
     "name": "stdout",
     "output_type": "stream",
     "text": [
      "GPU calculation failed: . Attempting CPU fallback...\n"
     ]
    },
    {
     "name": "stderr",
     "output_type": "stream",
     "text": [
      "Processing DNAJC19:   0%|          | 0/2227 [00:10<?, ?it/s, total cell num=837, current iter=6/20, mode=CPU]"
     ]
    },
    {
     "name": "stdout",
     "output_type": "stream",
     "text": [
      "CPU calculation also failed: \n",
      "Skipping energy distance calculation for this iteration.\n"
     ]
    },
    {
     "name": "stderr",
     "output_type": "stream",
     "text": [
      "\n"
     ]
    },
    {
     "ename": "KeyboardInterrupt",
     "evalue": "",
     "output_type": "error",
     "traceback": [
      "\u001b[0;31m---------------------------------------------------------------------------\u001b[0m",
      "\u001b[0;31mKeyboardInterrupt\u001b[0m                         Traceback (most recent call last)",
      "Cell \u001b[0;32mIn[26], line 66\u001b[0m\n\u001b[1;32m     64\u001b[0m \u001b[38;5;28;01mif\u001b[39;00m target_name \u001b[38;5;129;01mnot\u001b[39;00m \u001b[38;5;129;01min\u001b[39;00m pval_dict:\n\u001b[1;32m     65\u001b[0m     pval_dict[target_name] \u001b[38;5;241m=\u001b[39m {}\n\u001b[0;32m---> 66\u001b[0m pval_dict[target_name][\u001b[38;5;124mf\u001b[39m\u001b[38;5;124m\"\u001b[39m\u001b[38;5;124mdistance_\u001b[39m\u001b[38;5;132;01m{\u001b[39;00mbg_index\u001b[38;5;132;01m}\u001b[39;00m\u001b[38;5;124m\"\u001b[39m] \u001b[38;5;241m=\u001b[39m np\u001b[38;5;241m.\u001b[39mnan \u001b[38;5;66;03m# Store NaN if failed\u001b[39;00m\n\u001b[1;32m     67\u001b[0m pval_dict[target_name][\u001b[38;5;124mf\u001b[39m\u001b[38;5;124m\"\u001b[39m\u001b[38;5;124mpval_\u001b[39m\u001b[38;5;132;01m{\u001b[39;00mbg_index\u001b[38;5;132;01m}\u001b[39;00m\u001b[38;5;124m\"\u001b[39m] \u001b[38;5;241m=\u001b[39m np\u001b[38;5;241m.\u001b[39mnan      \u001b[38;5;66;03m# Store NaN if failed\u001b[39;00m\n\u001b[1;32m     68\u001b[0m \u001b[38;5;28mprint\u001b[39m(\u001b[38;5;124mf\u001b[39m\u001b[38;5;124m\"\u001b[39m\u001b[38;5;124mStored NaN for \u001b[39m\u001b[38;5;132;01m{\u001b[39;00mtarget_name\u001b[38;5;132;01m}\u001b[39;00m\u001b[38;5;124m, background \u001b[39m\u001b[38;5;132;01m{\u001b[39;00mbg_index\u001b[38;5;132;01m}\u001b[39;00m\u001b[38;5;124m due to calculation failure.\u001b[39m\u001b[38;5;124m\"\u001b[39m)\n",
      "\u001b[0;31mKeyboardInterrupt\u001b[0m: "
     ]
    }
   ],
   "source": [
    "# Initialize results dictionary\n",
    "pval_dict = {}\n",
    "\n",
    "# Initialize progress bar\n",
    "target_regions = list(gRNA_region_dict.keys())\n",
    "pbar = tqdm(enumerate(target_regions), total=len(target_regions), desc=\"Processing Regions\")\n",
    "\n",
    "# Main loop iterating through target regions\n",
    "for target_index, target_name in pbar:\n",
    "    pbar.set_description(f\"Processing {target_name}\")\n",
    "    original_target_cell_names = cell_per_region_dict.get(target_name, []) # Get cells for the region\n",
    "\n",
    "    if len(original_target_cell_names)==0:\n",
    "        print(f\"Warning: No cells found for target region {target_name}. Skipping.\")\n",
    "        continue\n",
    "    \n",
    "    # Adjust batch size and downsample if necessary\n",
    "    target_cell_names, batch_num = adjust_processing_parameters(\n",
    "        original_target_cell_names, batch_num_basic\n",
    "    )\n",
    "    \n",
    "    # Inner loop for background comparisons\n",
    "    for bg_index in range(num_of_bg):\n",
    "        current_bg_non_target_cells = non_target_cell_name_reduced[bg_index]\n",
    "\n",
    "        # Remove overlapping cells between target and current background\n",
    "        target_cell_name_clear, non_target_cell_name_clear = remove_overlap_cells(\n",
    "            target_cell_names, current_bg_non_target_cells\n",
    "        )\n",
    "\n",
    "        # Check if lists are empty after removing overlap (can happen if sets are identical)\n",
    "        if not target_cell_name_clear or not non_target_cell_name_clear:\n",
    "            print(f\"Warning: No unique cells left for comparison between {target_name} and background {bg_index+1}. Skipping.\")\n",
    "            continue\n",
    "\n",
    "        # Run permutation test with GPU preference and CPU fallback\n",
    "        obs_edist, e_dist_list = run_permutation_test_with_fallback(\n",
    "            pbar=pbar,\n",
    "            pca_df=pca_df,\n",
    "            target_cells=target_cell_name_clear,\n",
    "            non_target_cells=non_target_cell_name_clear,\n",
    "            gpu_device=device,\n",
    "            batch_num=batch_num,\n",
    "            permutations=permute_per_bg,\n",
    "            current_iter_info=f\"{bg_index+1}/{num_of_bg}\",\n",
    "            total_cell_info=len(target_cell_names) # Use count after potential downsampling\n",
    "        )\n",
    "\n",
    "        # Process results only if calculation was successful\n",
    "        if obs_edist is not None and e_dist_list is not None:\n",
    "            # Initialize dict for target_name if first time\n",
    "            if target_name not in pval_dict:\n",
    "                pval_dict[target_name] = {}\n",
    "                pval_dict[target_name][\"cell_count\"] = len(target_cell_names)\n",
    "                pval_dict[target_name][\"source\"] = get_source_target(target_name,annotation_df)\n",
    "            \n",
    "            # Store observed distance and calculate p-value\n",
    "            pval_dict[target_name][f\"distance_{bg_index}\"] = obs_edist.item() # Use .item() for scalar tensor\n",
    "            # Calculate p-value: proportion of permutation distances >= observed distance\n",
    "            p_value = (e_dist_list >= obs_edist).sum().item() / permute_per_bg\n",
    "            pval_dict[target_name][f\"pval_{bg_index}\"] = p_value\n",
    "        else:\n",
    "            # Handle failure case (optional: store NaN or skip)\n",
    "            if target_name not in pval_dict:\n",
    "                pval_dict[target_name] = {}\n",
    "            pval_dict[target_name][f\"distance_{bg_index}\"] = np.nan # Store NaN if failed\n",
    "            pval_dict[target_name][f\"pval_{bg_index}\"] = np.nan      # Store NaN if failed\n",
    "            print(f\"Stored NaN for {target_name}, background {bg_index} due to calculation failure.\")\n",
    "        \n",
    "    # Save results periodically (e.g., every 10 regions)\n",
    "    if (target_index + 1) % 10 == 0: # Check using target_index + 1 if saving after processing 10, 20,...\n",
    "        print(f\"\\nSaving intermediate results after processing {target_index + 1} regions...\")\n",
    "        save_results(pval_dict, output_file, d_tmp)\n",
    "        print(\"Intermediate results saved.\\n\")\n",
    "\n",
    "\n",
    "# Final save after processing all regions\n",
    "print(\"\\nProcessing complete. Saving final results...\")\n",
    "save_results(pval_dict, output_file, d_tmp)\n",
    "print(f\"Final results saved to {output_file}\")\n"
   ]
  },
  {
   "cell_type": "code",
   "execution_count": 27,
   "id": "fbe805dc-c253-41c1-98c1-2ca7ddaa6e1b",
   "metadata": {
    "tags": []
   },
   "outputs": [
    {
     "data": {
      "text/plain": [
       "{'DNAJC19': {'cell_count': 837,\n",
       "  'source': 'pos_control',\n",
       "  'distance_0': 15.9136962890625,\n",
       "  'pval_0': 0.0,\n",
       "  'distance_1': 10.693359375,\n",
       "  'pval_1': 0.0,\n",
       "  'distance_2': nan,\n",
       "  'pval_2': nan,\n",
       "  'distance_3': 11.5869140625,\n",
       "  'pval_3': 0.0,\n",
       "  'distance_4': 13.05859375,\n",
       "  'pval_4': 0.0}}"
      ]
     },
     "execution_count": 27,
     "metadata": {},
     "output_type": "execute_result"
    }
   ],
   "source": [
    "pval_dict"
   ]
  },
  {
   "cell_type": "code",
   "execution_count": null,
   "id": "3f31f6d8-5b45-45a3-9678-ec3cfbfbcc7b",
   "metadata": {},
   "outputs": [],
   "source": []
  }
 ],
 "metadata": {
  "kernelspec": {
   "display_name": "scanpy_gpu",
   "language": "python",
   "name": "scanpy_gpu"
  },
  "language_info": {
   "codemirror_mode": {
    "name": "ipython",
    "version": 3
   },
   "file_extension": ".py",
   "mimetype": "text/x-python",
   "name": "python",
   "nbconvert_exporter": "python",
   "pygments_lexer": "ipython3",
   "version": "3.12.2"
  }
 },
 "nbformat": 4,
 "nbformat_minor": 5
}
